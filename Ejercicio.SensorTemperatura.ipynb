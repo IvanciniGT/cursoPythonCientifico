{
 "cells": [
  {
   "cell_type": "markdown",
   "metadata": {},
   "source": [
    "# Sensor de temperaturas"
   ]
  },
  {
   "cell_type": "markdown",
   "metadata": {},
   "source": [
    "## Mediciones con el primer instrumento de medición"
   ]
  },
  {
   "cell_type": "code",
   "execution_count": 1,
   "metadata": {},
   "outputs": [
    {
     "data": {
      "text/plain": [
       "array([19.54529159, 20.38458006, 20.21577339, 19.83853906, 19.99176745,\n",
       "       19.93418734, 19.69534909, 20.3422802 , 19.92023708, 20.54289966])"
      ]
     },
     "execution_count": 1,
     "metadata": {},
     "output_type": "execute_result"
    }
   ],
   "source": [
    "from numpy import random\n",
    "import numpy as np\n",
    "\n",
    "medida0=random.normal(loc=5  ,scale=0.5,size=10)\n",
    "medida10=random.normal(loc=10,scale=0.5,size=10)\n",
    "medida20=random.normal(loc=15,scale=0.5,size=10)\n",
    "medida30=random.normal(loc=18,scale=0.5,size=10)\n",
    "medida40=random.normal(loc=20,scale=0.5,size=10)\n",
    "medida40"
   ]
  },
  {
   "cell_type": "code",
   "execution_count": 2,
   "metadata": {},
   "outputs": [
    {
     "name": "stdout",
     "output_type": "stream",
     "text": [
      "[ 5.60165214  4.62615014  4.58811657  4.31893386  5.39760292  5.25577008\n",
      "  4.69775258  5.26761534  5.1635151   5.13399414  9.26316949  9.77776021\n",
      "  9.34901222  9.99749046 10.71349049  9.43854824 10.25995193 10.66692954\n",
      " 10.49050001 10.43655164 16.25186147 15.32285995 15.23542775 15.30744374\n",
      " 14.61054079 14.93046744 15.39362794 15.56834815 14.79014671 14.71650821\n",
      " 18.58963334 18.32401592 17.83849263 18.67059746 17.76265865 17.9741108\n",
      " 18.25354293 18.73901386 17.55511924 18.31647426 19.54529159 20.38458006\n",
      " 20.21577339 19.83853906 19.99176745 19.93418734 19.69534909 20.3422802\n",
      " 19.92023708 20.54289966]\n",
      "[[ 5.60165214  4.62615014  4.58811657  4.31893386  5.39760292  5.25577008\n",
      "   4.69775258  5.26761534  5.1635151   5.13399414]\n",
      " [ 9.26316949  9.77776021  9.34901222  9.99749046 10.71349049  9.43854824\n",
      "  10.25995193 10.66692954 10.49050001 10.43655164]\n",
      " [16.25186147 15.32285995 15.23542775 15.30744374 14.61054079 14.93046744\n",
      "  15.39362794 15.56834815 14.79014671 14.71650821]\n",
      " [18.58963334 18.32401592 17.83849263 18.67059746 17.76265865 17.9741108\n",
      "  18.25354293 18.73901386 17.55511924 18.31647426]\n",
      " [19.54529159 20.38458006 20.21577339 19.83853906 19.99176745 19.93418734\n",
      "  19.69534909 20.3422802  19.92023708 20.54289966]]\n"
     ]
    }
   ],
   "source": [
    "concatenada=np.concatenate((medida0,medida10,medida20,medida30, medida40))\n",
    "print(concatenada)\n",
    "datos_en_2d=concatenada.reshape(5,10)\n",
    "print(datos_en_2d)"
   ]
  },
  {
   "cell_type": "code",
   "execution_count": 3,
   "metadata": {},
   "outputs": [
    {
     "name": "stdout",
     "output_type": "stream",
     "text": [
      "[[ 5.60165214  4.62615014  4.58811657  4.31893386  5.39760292  5.25577008\n",
      "   4.69775258  5.26761534  5.1635151   5.13399414]\n",
      " [ 9.26316949  9.77776021  9.34901222  9.99749046 10.71349049  9.43854824\n",
      "  10.25995193 10.66692954 10.49050001 10.43655164]\n",
      " [16.25186147 15.32285995 15.23542775 15.30744374 14.61054079 14.93046744\n",
      "  15.39362794 15.56834815 14.79014671 14.71650821]\n",
      " [18.58963334 18.32401592 17.83849263 18.67059746 17.76265865 17.9741108\n",
      "  18.25354293 18.73901386 17.55511924 18.31647426]\n",
      " [19.54529159 20.38458006 20.21577339 19.83853906 19.99176745 19.93418734\n",
      "  19.69534909 20.3422802  19.92023708 20.54289966]]\n"
     ]
    }
   ],
   "source": [
    "serie1=np.stack((medida0,medida10,medida20,medida30, medida40))\n",
    "print(serie1)"
   ]
  },
  {
   "cell_type": "code",
   "execution_count": 4,
   "metadata": {},
   "outputs": [
    {
     "data": {
      "text/plain": [
       "array([ 5, 10, 15, 20])"
      ]
     },
     "execution_count": 4,
     "metadata": {},
     "output_type": "execute_result"
    }
   ],
   "source": [
    "##############INCISO:\n",
    "matriz=np.array([1,2,3,4])\n",
    "(matriz,) # Esto genera una lista con un a matriz dentro\n",
    "('a','b')*5 # Al multiplicar una lista PYTHON por un numero, repite los elementos de la lista\n",
    "matriz*5 # Al multiplicar una matriz de numpy, se multiplica cada elemento de la matriz\n",
    "#################### ACABA EL INCISO"
   ]
  },
  {
   "cell_type": "code",
   "execution_count": 5,
   "metadata": {},
   "outputs": [
    {
     "data": {
      "text/plain": [
       "array([[ 0,  0,  0,  0,  0,  0,  0,  0,  0,  0],\n",
       "       [10, 10, 10, 10, 10, 10, 10, 10, 10, 10],\n",
       "       [20, 20, 20, 20, 20, 20, 20, 20, 20, 20],\n",
       "       [30, 30, 30, 30, 30, 30, 30, 30, 30, 30],\n",
       "       [40, 40, 40, 40, 40, 40, 40, 40, 40, 40]])"
      ]
     },
     "execution_count": 5,
     "metadata": {},
     "output_type": "execute_result"
    }
   ],
   "source": [
    "temperatura=np.arange(0,50,10)\n",
    "temperaturas=np.stack((temperatura,)*10).transpose()\n",
    "temperaturas"
   ]
  },
  {
   "cell_type": "code",
   "execution_count": 6,
   "metadata": {},
   "outputs": [
    {
     "data": {
      "text/plain": [
       "array([[[ 0.        ,  0.        ,  0.        ,  0.        ,\n",
       "          0.        ,  0.        ,  0.        ,  0.        ,\n",
       "          0.        ,  0.        ],\n",
       "        [10.        , 10.        , 10.        , 10.        ,\n",
       "         10.        , 10.        , 10.        , 10.        ,\n",
       "         10.        , 10.        ],\n",
       "        [20.        , 20.        , 20.        , 20.        ,\n",
       "         20.        , 20.        , 20.        , 20.        ,\n",
       "         20.        , 20.        ],\n",
       "        [30.        , 30.        , 30.        , 30.        ,\n",
       "         30.        , 30.        , 30.        , 30.        ,\n",
       "         30.        , 30.        ],\n",
       "        [40.        , 40.        , 40.        , 40.        ,\n",
       "         40.        , 40.        , 40.        , 40.        ,\n",
       "         40.        , 40.        ]],\n",
       "\n",
       "       [[ 5.60165214,  4.62615014,  4.58811657,  4.31893386,\n",
       "          5.39760292,  5.25577008,  4.69775258,  5.26761534,\n",
       "          5.1635151 ,  5.13399414],\n",
       "        [ 9.26316949,  9.77776021,  9.34901222,  9.99749046,\n",
       "         10.71349049,  9.43854824, 10.25995193, 10.66692954,\n",
       "         10.49050001, 10.43655164],\n",
       "        [16.25186147, 15.32285995, 15.23542775, 15.30744374,\n",
       "         14.61054079, 14.93046744, 15.39362794, 15.56834815,\n",
       "         14.79014671, 14.71650821],\n",
       "        [18.58963334, 18.32401592, 17.83849263, 18.67059746,\n",
       "         17.76265865, 17.9741108 , 18.25354293, 18.73901386,\n",
       "         17.55511924, 18.31647426],\n",
       "        [19.54529159, 20.38458006, 20.21577339, 19.83853906,\n",
       "         19.99176745, 19.93418734, 19.69534909, 20.3422802 ,\n",
       "         19.92023708, 20.54289966]]])"
      ]
     },
     "execution_count": 6,
     "metadata": {},
     "output_type": "execute_result"
    }
   ],
   "source": [
    "datos=np.stack((temperaturas,serie1))\n",
    "datos"
   ]
  },
  {
   "cell_type": "code",
   "execution_count": 7,
   "metadata": {},
   "outputs": [
    {
     "data": {
      "text/plain": [
       "array([ 5.00511029, 10.03934042, 15.21272321, 18.20236591, 20.04109049])"
      ]
     },
     "execution_count": 7,
     "metadata": {},
     "output_type": "execute_result"
    }
   ],
   "source": [
    "datos[1].mean(axis=1)"
   ]
  },
  {
   "cell_type": "code",
   "execution_count": 8,
   "metadata": {},
   "outputs": [
    {
     "name": "stdout",
     "output_type": "stream",
     "text": [
      "5.005110286068119\n",
      "10.039340423720663\n",
      "15.212723214171158\n",
      "18.202365908927543\n",
      "20.04109049171945\n"
     ]
    }
   ],
   "source": [
    "for serie_mediciones in datos[1]:\n",
    "    print(serie_mediciones.mean())"
   ]
  },
  {
   "cell_type": "code",
   "execution_count": 9,
   "metadata": {},
   "outputs": [
    {
     "data": {
      "text/plain": [
       "DescribeResult(nobs=10, minmax=(array([ 4.31893386,  9.26316949, 14.61054079, 17.55511924, 19.54529159]), array([ 5.60165214, 10.71349049, 16.25186147, 18.73901386, 20.54289966])), mean=array([ 5.00511029, 10.03934042, 15.21272321, 18.20236591, 20.04109049]), variance=array([0.17401738, 0.30760653, 0.23641264, 0.1649357 , 0.10287491]), skewness=array([-0.26837776, -0.21459483,  0.75058925, -0.17052753,  0.08845376]), kurtosis=array([-1.20028019, -1.49252404,  0.12256905, -1.24361324, -1.09577561]))"
      ]
     },
     "execution_count": 9,
     "metadata": {},
     "output_type": "execute_result"
    }
   ],
   "source": [
    "from scipy import stats as st\n",
    "estadisticos=st.describe(datos[1],axis=1)\n",
    "estadisticos"
   ]
  },
  {
   "cell_type": "code",
   "execution_count": 10,
   "metadata": {},
   "outputs": [
    {
     "data": {
      "text/plain": [
       "array([ 5.60165214,  4.62615014,  4.58811657,  4.31893386,  5.39760292,\n",
       "        5.25577008,  4.69775258,  5.26761534,  5.1635151 ,  5.13399414,\n",
       "        9.26316949,  9.77776021,  9.34901222,  9.99749046, 10.71349049,\n",
       "        9.43854824, 10.25995193, 10.66692954, 10.49050001, 10.43655164,\n",
       "       16.25186147, 15.32285995, 15.23542775, 15.30744374, 14.61054079,\n",
       "       14.93046744, 15.39362794, 15.56834815, 14.79014671, 14.71650821,\n",
       "       18.58963334, 18.32401592, 17.83849263, 18.67059746, 17.76265865,\n",
       "       17.9741108 , 18.25354293, 18.73901386, 17.55511924, 18.31647426,\n",
       "       19.54529159, 20.38458006, 20.21577339, 19.83853906, 19.99176745,\n",
       "       19.93418734, 19.69534909, 20.3422802 , 19.92023708, 20.54289966])"
      ]
     },
     "execution_count": 10,
     "metadata": {},
     "output_type": "execute_result"
    }
   ],
   "source": [
    "# Regresion lineal\n",
    "# Que datos le tengo que dar???\n",
    "# Variable independiente: amper: X\n",
    "# Variable dependiente:   temp:  Y\n",
    "X=datos[1].flatten()\n",
    "X"
   ]
  },
  {
   "cell_type": "code",
   "execution_count": 11,
   "metadata": {},
   "outputs": [
    {
     "data": {
      "text/plain": [
       "array([ 0.,  0.,  0.,  0.,  0.,  0.,  0.,  0.,  0.,  0., 10., 10., 10.,\n",
       "       10., 10., 10., 10., 10., 10., 10., 20., 20., 20., 20., 20., 20.,\n",
       "       20., 20., 20., 20., 30., 30., 30., 30., 30., 30., 30., 30., 30.,\n",
       "       30., 40., 40., 40., 40., 40., 40., 40., 40., 40., 40.])"
      ]
     },
     "execution_count": 11,
     "metadata": {},
     "output_type": "execute_result"
    }
   ],
   "source": [
    "Y=datos[0].flatten()\n",
    "Y"
   ]
  },
  {
   "cell_type": "code",
   "execution_count": 12,
   "metadata": {},
   "outputs": [
    {
     "name": "stdout",
     "output_type": "stream",
     "text": [
      "                            OLS Regression Results                            \n",
      "==============================================================================\n",
      "Dep. Variable:                      y   R-squared:                       0.958\n",
      "Model:                            OLS   Adj. R-squared:                  0.957\n",
      "Method:                 Least Squares   F-statistic:                     1085.\n",
      "Date:                Thu, 22 Oct 2020   Prob (F-statistic):           1.30e-34\n",
      "Time:                        11:09:51   Log-Likelihood:                -124.37\n",
      "No. Observations:                  50   AIC:                             252.7\n",
      "Df Residuals:                      48   BIC:                             256.6\n",
      "Df Model:                           1                                         \n",
      "Covariance Type:            nonrobust                                         \n",
      "==============================================================================\n",
      "                 coef    std err          t      P>|t|      [0.025      0.975]\n",
      "------------------------------------------------------------------------------\n",
      "const        -14.3136      1.123    -12.744      0.000     -16.572     -12.055\n",
      "x1             2.5046      0.076     32.942      0.000       2.352       2.657\n",
      "==============================================================================\n",
      "Omnibus:                        3.851   Durbin-Watson:                   0.387\n",
      "Prob(Omnibus):                  0.146   Jarque-Bera (JB):                1.798\n",
      "Skew:                           0.061   Prob(JB):                        0.407\n",
      "Kurtosis:                       2.079   Cond. No.                         39.6\n",
      "==============================================================================\n",
      "\n",
      "Warnings:\n",
      "[1] Standard Errors assume that the covariance matrix of the errors is correctly specified.\n"
     ]
    }
   ],
   "source": [
    "# Función matemática, cuya expresión corresponde a una recta:\n",
    "# y= a·x\n",
    "# y= a·x + b\n",
    "import statsmodels.api as sm\n",
    "X=sm.add_constant(X) # ---> Lo necesito para que el modelo me genere una b\n",
    "model=sm.OLS(Y,X).fit()\n",
    "print(model.summary())\n",
    "# R2: Bondad de ajuste\n",
    "# R: Coef correlacion pearson\n",
    "# Cantidad de varianza explicada 95,6% varianza ---> 4.4% de varianza no explicada ---> ERROR\n",
    "# Raiz del 4,4 me da la desviación tipica de los errores -> Rango de la predicion: 2,09\n",
    "# 2,09 · 1.96 (Z(0.05/2)) nivel de significacion 0.05)---> 4 \n"
   ]
  },
  {
   "cell_type": "code",
   "execution_count": 13,
   "metadata": {},
   "outputs": [
    {
     "data": {
      "text/plain": [
       "array([-0.28359644, -2.72685785, -2.82211748, -3.49631777, -0.7946621 ,\n",
       "       -1.14989941, -2.54752098, -1.12023155, -1.38096306, -1.45490183,\n",
       "        8.88711166, 10.17596564,  9.10211502, 10.72630633, 12.51961404,\n",
       "        9.3263687 , 11.38367248, 12.40299658, 11.96110771, 11.82598756,\n",
       "       26.39112647, 24.06433106, 23.84534668, 24.02571934, 22.28024256,\n",
       "       23.0815371 , 24.24157797, 24.67918564, 22.73008705, 22.54565062,\n",
       "       32.2463557 , 31.5810851 , 30.36503397, 32.44914002, 30.1750987 ,\n",
       "       30.70470588, 31.40457708, 32.62049708, 29.65529142, 31.56219612,\n",
       "       34.63991608, 36.74201441, 36.31921793, 35.37438943, 35.75816827,\n",
       "       35.61395198, 35.01575304, 36.63606936, 35.5790119 , 37.13854478])"
      ]
     },
     "execution_count": 13,
     "metadata": {},
     "output_type": "execute_result"
    }
   ],
   "source": [
    "# Temperatura = 2.5154 · Amp - 14.0704\n",
    "predicciones=model.predict(X)\n",
    "predicciones"
   ]
  },
  {
   "cell_type": "code",
   "execution_count": 14,
   "metadata": {},
   "outputs": [
    {
     "data": {
      "text/plain": [
       "[<matplotlib.lines.Line2D at 0x7fe8a4835460>]"
      ]
     },
     "execution_count": 14,
     "metadata": {},
     "output_type": "execute_result"
    },
    {
     "data": {
      "image/png": "[encoded data removed]",
      "text/plain": [
       "<Figure size 432x288 with 1 Axes>"
      ]
     },
     "metadata": {
      "needs_background": "light"
     },
     "output_type": "display_data"
    }
   ],
   "source": [
    "import matplotlib.pyplot as mp\n",
    "mp.plot(datos[1].flatten(),Y,'o', color='blue')\n",
    "mp.plot(datos[1].flatten(),predicciones,'-', color='red')"
   ]
  },
  {
   "cell_type": "code",
   "execution_count": 19,
   "metadata": {},
   "outputs": [
    {
     "name": "stdout",
     "output_type": "stream",
     "text": [
      "                            OLS Regression Results                            \n",
      "==============================================================================\n",
      "Dep. Variable:                   Temp   R-squared:                       0.990\n",
      "Model:                            OLS   Adj. R-squared:                  0.990\n",
      "Method:                 Least Squares   F-statistic:                     1586.\n",
      "Date:                Thu, 22 Oct 2020   Prob (F-statistic):           2.03e-46\n",
      "Time:                        11:11:16   Log-Likelihood:                -87.198\n",
      "No. Observations:                  50   AIC:                             182.4\n",
      "Df Residuals:                      46   BIC:                             190.0\n",
      "Df Model:                           3                                         \n",
      "Covariance Type:            nonrobust                                         \n",
      "==================================================================================\n",
      "                     coef    std err          t      P>|t|      [0.025      0.975]\n",
      "----------------------------------------------------------------------------------\n",
      "Intercept        -18.9190      3.246     -5.828      0.000     -25.453     -12.385\n",
      "np.power(A, 3)     0.0129      0.002      5.735      0.000       0.008       0.017\n",
      "np.power(A, 2)    -0.3838      0.085     -4.518      0.000      -0.555      -0.213\n",
      "A                  5.4181      0.975      5.559      0.000       3.456       7.380\n",
      "==============================================================================\n",
      "Omnibus:                        0.102   Durbin-Watson:                   2.310\n",
      "Prob(Omnibus):                  0.950   Jarque-Bera (JB):                0.296\n",
      "Skew:                          -0.056   Prob(JB):                        0.862\n",
      "Kurtosis:                       2.640   Cond. No.                     7.98e+04\n",
      "==============================================================================\n",
      "\n",
      "Warnings:\n",
      "[1] Standard Errors assume that the covariance matrix of the errors is correctly specified.\n",
      "[2] The condition number is large, 7.98e+04. This might indicate that there are\n",
      "strong multicollinearity or other numerical problems.\n"
     ]
    }
   ],
   "source": [
    "# Formula de regresion=>>> Y = aX*X + b*X + c\n",
    "import statsmodels.formula.api as smf\n",
    "X=datos[1].flatten()\n",
    "Y=datos[0].flatten()\n",
    "\n",
    "#model=smf.ols(formula='Temp~AC+A+1' , data= {'Temp':Y, 'AC':X*X, 'A':X} ).fit()\n",
    "model=smf.ols(formula='Temp~ np.power(A,3)+np.power(A,2) + A + 1' , data= {'Temp':Y, 'A':X} ).fit()\n",
    "print(model.summary())"
   ]
  },
  {
   "cell_type": "code",
   "execution_count": 20,
   "metadata": {},
   "outputs": [
    {
     "name": "stdout",
     "output_type": "stream",
     "text": [
      "2\n"
     ]
    },
    {
     "data": {
      "text/plain": [
       "1"
      ]
     },
     "execution_count": 20,
     "metadata": {},
     "output_type": "execute_result"
    }
   ],
   "source": [
    "# Listas a las que accedo a los elementos por su posicion\n",
    "tupla=(1,2,3)   # No se puede modificar\n",
    "lista=[1,2,3]   # SI se puede modificar\n",
    "\n",
    "print(lista[1])\n",
    "\n",
    "# Listas a las que acceso a los elementos por nombres: DICCIONARIOS\n",
    "diccionario={  'A':1,  'B': 2 ,'C':  3 }\n",
    "diccionario['A']"
   ]
  },
  {
   "cell_type": "code",
   "execution_count": 29,
   "metadata": {},
   "outputs": [
    {
     "data": {
      "text/plain": [
       "[<matplotlib.lines.Line2D at 0x7fe8a516e490>]"
      ]
     },
     "execution_count": 29,
     "metadata": {},
     "output_type": "execute_result"
    },
    {
     "data": {
      "image/png": "[encoded data removed]",
      "text/plain": [
       "<Figure size 432x288 with 1 Axes>"
      ]
     },
     "metadata": {
      "needs_background": "light"
     },
     "output_type": "display_data"
    }
   ],
   "source": [
    "import matplotlib.pyplot as mp\n",
    "mp.plot(X,Y,'o', color='blue')\n",
    "mp.plot(np.sort(X),np.sort(model.fittedvalues),'-', color='red')"
   ]
  },
  {
   "cell_type": "code",
   "execution_count": 25,
   "metadata": {},
   "outputs": [
    {
     "data": {
      "text/plain": [
       "array([ 4.31893386,  4.58811657,  4.62615014,  4.69775258,  5.13399414,\n",
       "        5.1635151 ,  5.25577008,  5.26761534,  5.39760292,  5.60165214,\n",
       "        9.26316949,  9.34901222,  9.43854824,  9.77776021,  9.99749046,\n",
       "       10.25995193, 10.43655164, 10.49050001, 10.66692954, 10.71349049,\n",
       "       14.61054079, 14.71650821, 14.79014671, 14.93046744, 15.23542775,\n",
       "       15.30744374, 15.32285995, 15.39362794, 15.56834815, 16.25186147,\n",
       "       17.55511924, 17.76265865, 17.83849263, 17.9741108 , 18.25354293,\n",
       "       18.31647426, 18.32401592, 18.58963334, 18.67059746, 18.73901386,\n",
       "       19.54529159, 19.69534909, 19.83853906, 19.92023708, 19.93418734,\n",
       "       19.99176745, 20.21577339, 20.3422802 , 20.38458006, 20.54289966])"
      ]
     },
     "execution_count": 25,
     "metadata": {},
     "output_type": "execute_result"
    }
   ],
   "source": [
    "np.sort(X)"
   ]
  },
  {
   "cell_type": "code",
   "execution_count": 34,
   "metadata": {},
   "outputs": [
    {
     "data": {
      "text/plain": [
       "0    17.116384\n",
       "dtype: float64"
      ]
     },
     "execution_count": 34,
     "metadata": {},
     "output_type": "execute_result"
    }
   ],
   "source": [
    "model.predict({'A':[14]})"
   ]
  },
  {
   "cell_type": "code",
   "execution_count": null,
   "metadata": {},
   "outputs": [],
   "source": []
  }
 ],
 "metadata": {
  "kernelspec": {
   "display_name": "Python 3",
   "language": "python",
   "name": "python3"
  },
  "language_info": {
   "codemirror_mode": {
    "name": "ipython",
    "version": 3
   },
   "file_extension": ".py",
   "mimetype": "text/x-python",
   "name": "python",
   "nbconvert_exporter": "python",
   "pygments_lexer": "ipython3",
   "version": "3.8.3"
  }
 },
 "nbformat": 4,
 "nbformat_minor": 4
}
