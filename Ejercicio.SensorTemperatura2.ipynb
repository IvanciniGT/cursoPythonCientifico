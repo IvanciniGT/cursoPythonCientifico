{
 "cells": [
  {
   "cell_type": "code",
   "execution_count": 5,
   "metadata": {},
   "outputs": [
    {
     "data": {
      "text/plain": [
       "array([[ 4.66796281,  5.54583285,  4.95173315,  4.43897734,  5.28600988,\n",
       "         3.78221369,  5.80039348,  4.62469181,  6.18804577,  5.01638406],\n",
       "       [ 9.85134445,  9.45751895, 10.57861836,  9.99509065,  9.59191736,\n",
       "         9.51132357,  9.37520351,  9.19055998,  9.99058367,  9.64230828],\n",
       "       [14.84716312, 15.75647689, 15.58301152, 14.52422528, 14.88580866,\n",
       "        14.91486669, 14.92710845, 15.11626682, 14.28066745, 15.36723558],\n",
       "       [17.99001919, 18.4495204 , 18.34258686, 17.87343302, 18.55667002,\n",
       "        18.17759435, 18.41184498, 17.55254617, 18.66081245, 19.02415971],\n",
       "       [20.78642063, 21.14870652, 19.72453823, 19.76209582, 20.66825338,\n",
       "        19.76977144, 19.84581057, 19.77203933, 19.69962361, 19.59843368]])"
      ]
     },
     "execution_count": 5,
     "metadata": {},
     "output_type": "execute_result"
    }
   ],
   "source": [
    "# Temperatura: Medidas 0, 10, 20, 30, 40   (10 medidas de cada) \n",
    "# Amp.: Medidas        5, 10, 15, 18, 20\n",
    "# Distribución de las medidas siguen una normal\n",
    "from numpy import random\n",
    "import numpy as np\n",
    "medida0=random.normal(loc=5  ,scale=0.5,size=10)\n",
    "medida10=random.normal(loc=10,scale=0.5,size=10)\n",
    "medida20=random.normal(loc=15,scale=0.5,size=10)\n",
    "medida30=random.normal(loc=18,scale=0.5,size=10)\n",
    "medida40=random.normal(loc=20,scale=0.5,size=10)\n",
    "medida40\n",
    "np.concatenate((medida0,medida10,medida20,medida30,medida40)).reshape(5,10)"
   ]
  },
  {
   "cell_type": "code",
   "execution_count": 6,
   "metadata": {},
   "outputs": [],
   "source": [
    "serie1=np.stack((medida0,medida10, medida20, medida30, medida40))\n",
    "temperatura=np.arange(0,50,10)\n",
    "temperaturas=np.stack((temperatura,)*10)\n",
    "temperaturas=temperaturas.transpose()"
   ]
  },
  {
   "cell_type": "code",
   "execution_count": 7,
   "metadata": {},
   "outputs": [],
   "source": [
    "series=np.empty((2,5,10))\n",
    "series[0]=temperaturas\n",
    "series[1]=serie1"
   ]
  },
  {
   "cell_type": "code",
   "execution_count": 8,
   "metadata": {},
   "outputs": [
    {
     "data": {
      "text/plain": [
       "array([[[ 0.        ,  0.        ,  0.        ,  0.        ,\n",
       "          0.        ,  0.        ,  0.        ,  0.        ,\n",
       "          0.        ,  0.        ],\n",
       "        [10.        , 10.        , 10.        , 10.        ,\n",
       "         10.        , 10.        , 10.        , 10.        ,\n",
       "         10.        , 10.        ],\n",
       "        [20.        , 20.        , 20.        , 20.        ,\n",
       "         20.        , 20.        , 20.        , 20.        ,\n",
       "         20.        , 20.        ],\n",
       "        [30.        , 30.        , 30.        , 30.        ,\n",
       "         30.        , 30.        , 30.        , 30.        ,\n",
       "         30.        , 30.        ],\n",
       "        [40.        , 40.        , 40.        , 40.        ,\n",
       "         40.        , 40.        , 40.        , 40.        ,\n",
       "         40.        , 40.        ]],\n",
       "\n",
       "       [[ 4.66796281,  5.54583285,  4.95173315,  4.43897734,\n",
       "          5.28600988,  3.78221369,  5.80039348,  4.62469181,\n",
       "          6.18804577,  5.01638406],\n",
       "        [ 9.85134445,  9.45751895, 10.57861836,  9.99509065,\n",
       "          9.59191736,  9.51132357,  9.37520351,  9.19055998,\n",
       "          9.99058367,  9.64230828],\n",
       "        [14.84716312, 15.75647689, 15.58301152, 14.52422528,\n",
       "         14.88580866, 14.91486669, 14.92710845, 15.11626682,\n",
       "         14.28066745, 15.36723558],\n",
       "        [17.99001919, 18.4495204 , 18.34258686, 17.87343302,\n",
       "         18.55667002, 18.17759435, 18.41184498, 17.55254617,\n",
       "         18.66081245, 19.02415971],\n",
       "        [20.78642063, 21.14870652, 19.72453823, 19.76209582,\n",
       "         20.66825338, 19.76977144, 19.84581057, 19.77203933,\n",
       "         19.69962361, 19.59843368]]])"
      ]
     },
     "execution_count": 8,
     "metadata": {},
     "output_type": "execute_result"
    }
   ],
   "source": [
    "series"
   ]
  },
  {
   "cell_type": "code",
   "execution_count": 9,
   "metadata": {},
   "outputs": [
    {
     "data": {
      "text/plain": [
       "DescribeResult(nobs=5, minmax=(array([4.66796281, 5.54583285, 4.95173315, 4.43897734, 5.28600988,\n",
       "       3.78221369, 5.80039348, 4.62469181, 6.18804577, 5.01638406]), array([20.78642063, 21.14870652, 19.72453823, 19.76209582, 20.66825338,\n",
       "       19.76977144, 19.84581057, 19.77203933, 19.69962361, 19.59843368])), mean=array([13.62858204, 14.07161112, 13.83609762, 13.31876442, 13.79773186,\n",
       "       13.23115395, 13.6720722 , 13.25122082, 13.76394659, 13.72970426]), variance=array([41.57548695, 41.51722082, 36.89424735, 38.40302187, 40.29343906,\n",
       "       43.29382251, 35.64550348, 38.8517099 , 32.77777459, 39.44587676]), skewness=array([-0.33558911, -0.28713859, -0.5423095 , -0.43825813, -0.2815974 ,\n",
       "       -0.48053975, -0.29330045, -0.39886314, -0.2410686 , -0.42295451]), kurtosis=array([-1.25726823, -1.4370526 , -1.17097382, -1.19984365, -1.4015948 ,\n",
       "       -1.23316334, -1.48982179, -1.34952492, -1.45457129, -1.38878343]))"
      ]
     },
     "execution_count": 9,
     "metadata": {},
     "output_type": "execute_result"
    }
   ],
   "source": [
    "import scipy.stats as st\n",
    "st.describe(serie1)"
   ]
  },
  {
   "cell_type": "code",
   "execution_count": 10,
   "metadata": {},
   "outputs": [
    {
     "data": {
      "text/plain": [
       "array([ 5.03022448,  9.71844688, 15.02028305, 18.30391872, 20.07756932])"
      ]
     },
     "execution_count": 10,
     "metadata": {},
     "output_type": "execute_result"
    }
   ],
   "source": [
    "st.describe(serie1, axis=1).mean"
   ]
  },
  {
   "cell_type": "code",
   "execution_count": 22,
   "metadata": {},
   "outputs": [
    {
     "name": "stdout",
     "output_type": "stream",
     "text": [
      "                            OLS Regression Results                            \n",
      "==============================================================================\n",
      "Dep. Variable:                      Y   R-squared:                       0.980\n",
      "Model:                            OLS   Adj. R-squared:                  0.979\n",
      "Method:                 Least Squares   F-statistic:                     1124.\n",
      "Date:                Thu, 22 Oct 2020   Prob (F-statistic):           2.08e-40\n",
      "Time:                        10:48:36   Log-Likelihood:                -106.20\n",
      "No. Observations:                  50   AIC:                             218.4\n",
      "Df Residuals:                      47   BIC:                             224.1\n",
      "Df Model:                           2                                         \n",
      "Covariance Type:            nonrobust                                         \n",
      "==================================================================================\n",
      "                     coef    std err          t      P>|t|      [0.025      0.975]\n",
      "----------------------------------------------------------------------------------\n",
      "Intercept         -3.1185      1.786     -1.746      0.087      -6.711       0.474\n",
      "np.power(X, 2)     0.0851      0.013      6.668      0.000       0.059       0.111\n",
      "X                  0.3422      0.325      1.052      0.298      -0.312       0.997\n",
      "==============================================================================\n",
      "Omnibus:                        4.428   Durbin-Watson:                   0.897\n",
      "Prob(Omnibus):                  0.109   Jarque-Bera (JB):                2.077\n",
      "Skew:                           0.168   Prob(JB):                        0.354\n",
      "Kurtosis:                       2.060   Cond. No.                     1.60e+03\n",
      "==============================================================================\n",
      "\n",
      "Warnings:\n",
      "[1] Standard Errors assume that the covariance matrix of the errors is correctly specified.\n",
      "[2] The condition number is large, 1.6e+03. This might indicate that there are\n",
      "strong multicollinearity or other numerical problems.\n"
     ]
    }
   ],
   "source": [
    "import statsmodels.formula.api as smf\n",
    "\n",
    "X=series[1].flatten() \n",
    "Y=series[0].flatten()\n",
    "model = smf.ols(formula='Y~X+1',data={'Y':Y,'X':X}).fit()\n",
    "print_model = model.summary()\n",
    "print(print_model)\n"
   ]
  },
  {
   "cell_type": "code",
   "execution_count": null,
   "metadata": {},
   "outputs": [],
   "source": []
  },
  {
   "cell_type": "code",
   "execution_count": null,
   "metadata": {},
   "outputs": [],
   "source": []
  }
 ],
 "metadata": {
  "kernelspec": {
   "display_name": "Python 3",
   "language": "python",
   "name": "python3"
  },
  "language_info": {
   "codemirror_mode": {
    "name": "ipython",
    "version": 3
   },
   "file_extension": ".py",
   "mimetype": "text/x-python",
   "name": "python",
   "nbconvert_exporter": "python",
   "pygments_lexer": "ipython3",
   "version": "3.8.3"
  }
 },
 "nbformat": 4,
 "nbformat_minor": 4
}
