{
 "cells": [
  {
   "cell_type": "code",
   "execution_count": 3,
   "metadata": {},
   "outputs": [],
   "source": [
    "import scipy\n",
    "import numpy as np"
   ]
  },
  {
   "cell_type": "code",
   "execution_count": 23,
   "metadata": {},
   "outputs": [
    {
     "data": {
      "text/plain": [
       "array([[10. , 12.2, 15. , 17.1, 21. , 22.1],\n",
       "       [10.5, 12.1, 15.1, 17. , 20.5, 22. ],\n",
       "       [10.2, 12. , 15. , 17. , 21.1, 22.1],\n",
       "       [ 9.8, 12.1, 15.1, 17.2, 21. , 22. ],\n",
       "       [10.1, 11.9, 14.8, 16.8, 21.2, 21.6]])"
      ]
     },
     "execution_count": 23,
     "metadata": {},
     "output_type": "execute_result"
    }
   ],
   "source": [
    "temperaturas=[-20, -10, 0 , 10, 20, 30]\n",
    "medidas1= [10, 12.2, 15, 17.1, 21, 22.1]\n",
    "medidas2= [10.5, 12.1, 15.1, 17, 20.5, 22]\n",
    "medidas3= [10.2, 12.0, 15, 17, 21.1, 22.1]\n",
    "medidas4= [9.8, 12.1, 15.1, 17.2, 21, 22]\n",
    "medidas5= [10.1, 11.9, 14.8, 16.8, 21.2, 21.6]\n",
    "\n",
    "m_temperaturas=np.array(temperaturas)\n",
    "m_medidas1=np.array(medidas1)\n",
    "m_medidas2=np.array(medidas2)\n",
    "m_medidas3=np.array(medidas3)\n",
    "m_medidas4=np.array(medidas4)\n",
    "m_medidas5=np.array(medidas5)\n",
    "m_medidas=np.stack(   (m_medidas1,m_medidas2,m_medidas3,m_medidas4,m_medidas5)   )\n",
    "m_medidas"
   ]
  },
  {
   "cell_type": "code",
   "execution_count": 29,
   "metadata": {},
   "outputs": [],
   "source": [
    "m_medias=np.mean(m_medidas, axis=0)"
   ]
  },
  {
   "cell_type": "code",
   "execution_count": 30,
   "metadata": {},
   "outputs": [
    {
     "data": {
      "text/plain": [
       "array(10.20304569)"
      ]
     },
     "execution_count": 30,
     "metadata": {},
     "output_type": "execute_result"
    }
   ],
   "source": [
    "from scipy.interpolate import interp1d\n",
    "                                    #y         #x\n",
    "funcion_de_interpolacion=interp1d(m_medias, m_temperaturas)\n",
    "funcion_de_interpolacion(17.1)"
   ]
  },
  {
   "cell_type": "code",
   "execution_count": 35,
   "metadata": {},
   "outputs": [],
   "source": [
    "def y(x):\n",
    "    return x**2-9"
   ]
  },
  {
   "cell_type": "code",
   "execution_count": 36,
   "metadata": {},
   "outputs": [
    {
     "data": {
      "text/plain": [
       "<function __main__.<lambda>(x)>"
      ]
     },
     "execution_count": 36,
     "metadata": {},
     "output_type": "execute_result"
    }
   ],
   "source": [
    "lambda x:x**2-9"
   ]
  },
  {
   "cell_type": "code",
   "execution_count": 38,
   "metadata": {},
   "outputs": [
    {
     "data": {
      "text/plain": [
       "    fjac: array([[-1.]])\n",
       "     fun: array([0.])\n",
       " message: 'The solution converged.'\n",
       "    nfev: 9\n",
       "     qtf: array([-8.18545232e-12])\n",
       "       r: array([6.00000009])\n",
       "  status: 1\n",
       " success: True\n",
       "       x: array([-3.])"
      ]
     },
     "execution_count": 38,
     "metadata": {},
     "output_type": "execute_result"
    }
   ],
   "source": [
    "from scipy.optimize import root\n",
    "\n",
    "root(lambda x:x**2-9,0)\n",
    "root(y,-5)\n"
   ]
  },
  {
   "cell_type": "code",
   "execution_count": 43,
   "metadata": {},
   "outputs": [
    {
     "data": {
      "text/plain": [
       "    fjac: array([[-1.]])\n",
       "     fun: array([0.])\n",
       " message: 'The solution converged.'\n",
       "    nfev: 3\n",
       "     qtf: array([0.])\n",
       "       r: array([-8192.99999999])\n",
       "  status: 1\n",
       " success: True\n",
       "       x: array([0.])"
      ]
     },
     "execution_count": 43,
     "metadata": {},
     "output_type": "execute_result"
    }
   ],
   "source": [
    "from scipy.optimize import root\n",
    "import math\n",
    "\n",
    "root(lambda x:math.sqrt(math.sin(x))+x*math.cos(x),0)"
   ]
  },
  {
   "cell_type": "code",
   "execution_count": 46,
   "metadata": {},
   "outputs": [
    {
     "data": {
      "text/plain": [
       "(17.000566744533057, 1.8874420631457342e-13)"
      ]
     },
     "execution_count": 46,
     "metadata": {},
     "output_type": "execute_result"
    }
   ],
   "source": [
    "def y(x):\n",
    "    return math.cos(x)+x**2\n",
    "\n",
    "# Integral 2-4\n",
    "from scipy.integrate import quad\n",
    "quad(y,2,4)\n"
   ]
  },
  {
   "cell_type": "code",
   "execution_count": 48,
   "metadata": {},
   "outputs": [
    {
     "data": {
      "text/plain": [
       "(148.0, 1.6431300764452317e-12)"
      ]
     },
     "execution_count": 48,
     "metadata": {},
     "output_type": "execute_result"
    }
   ],
   "source": [
    "def z(x,y):\n",
    "    return x**2+y**2\n",
    "\n",
    "from scipy.integrate import dblquad\n",
    "dblquad(z,2,4,lambda x: -3,lambda x: 3)\n",
    "                        # y1       \n",
    "           # y0\n",
    "         # x1       \n",
    "       # x0"
   ]
  },
  {
   "cell_type": "code",
   "execution_count": 51,
   "metadata": {},
   "outputs": [
    {
     "name": "stderr",
     "output_type": "stream",
     "text": [
      "C:\\Users\\Admin\\anaconda3\\lib\\site-packages\\scipy\\optimize\\optimize.py:1166: RuntimeWarning: divide by zero encountered in double_scalars\n",
      "  rhok = 1.0 / (np.dot(yk, sk))\n",
      "C:\\Users\\Admin\\anaconda3\\lib\\site-packages\\scipy\\optimize\\optimize.py:1166: RuntimeWarning: divide by zero encountered in double_scalars\n",
      "  rhok = 1.0 / (np.dot(yk, sk))\n",
      "C:\\Users\\Admin\\anaconda3\\lib\\site-packages\\scipy\\optimize\\optimize.py:1166: RuntimeWarning: divide by zero encountered in double_scalars\n",
      "  rhok = 1.0 / (np.dot(yk, sk))\n",
      "C:\\Users\\Admin\\anaconda3\\lib\\site-packages\\scipy\\optimize\\optimize.py:1166: RuntimeWarning: divide by zero encountered in double_scalars\n",
      "  rhok = 1.0 / (np.dot(yk, sk))\n",
      "C:\\Users\\Admin\\anaconda3\\lib\\site-packages\\scipy\\optimize\\optimize.py:1166: RuntimeWarning: divide by zero encountered in double_scalars\n",
      "  rhok = 1.0 / (np.dot(yk, sk))\n",
      "C:\\Users\\Admin\\anaconda3\\lib\\site-packages\\scipy\\optimize\\optimize.py:1166: RuntimeWarning: divide by zero encountered in double_scalars\n",
      "  rhok = 1.0 / (np.dot(yk, sk))\n",
      "C:\\Users\\Admin\\anaconda3\\lib\\site-packages\\scipy\\optimize\\optimize.py:1166: RuntimeWarning: divide by zero encountered in double_scalars\n",
      "  rhok = 1.0 / (np.dot(yk, sk))\n",
      "C:\\Users\\Admin\\anaconda3\\lib\\site-packages\\scipy\\optimize\\optimize.py:1166: RuntimeWarning: divide by zero encountered in double_scalars\n",
      "  rhok = 1.0 / (np.dot(yk, sk))\n",
      "C:\\Users\\Admin\\anaconda3\\lib\\site-packages\\scipy\\optimize\\optimize.py:1166: RuntimeWarning: divide by zero encountered in double_scalars\n",
      "  rhok = 1.0 / (np.dot(yk, sk))\n",
      "C:\\Users\\Admin\\anaconda3\\lib\\site-packages\\scipy\\optimize\\optimize.py:1166: RuntimeWarning: divide by zero encountered in double_scalars\n",
      "  rhok = 1.0 / (np.dot(yk, sk))\n",
      "C:\\Users\\Admin\\anaconda3\\lib\\site-packages\\scipy\\optimize\\optimize.py:1166: RuntimeWarning: divide by zero encountered in double_scalars\n",
      "  rhok = 1.0 / (np.dot(yk, sk))\n",
      "C:\\Users\\Admin\\anaconda3\\lib\\site-packages\\scipy\\optimize\\optimize.py:1166: RuntimeWarning: divide by zero encountered in double_scalars\n",
      "  rhok = 1.0 / (np.dot(yk, sk))\n",
      "C:\\Users\\Admin\\anaconda3\\lib\\site-packages\\scipy\\optimize\\optimize.py:1166: RuntimeWarning: divide by zero encountered in double_scalars\n",
      "  rhok = 1.0 / (np.dot(yk, sk))\n",
      "C:\\Users\\Admin\\anaconda3\\lib\\site-packages\\scipy\\optimize\\optimize.py:1166: RuntimeWarning: divide by zero encountered in double_scalars\n",
      "  rhok = 1.0 / (np.dot(yk, sk))\n",
      "C:\\Users\\Admin\\anaconda3\\lib\\site-packages\\scipy\\optimize\\optimize.py:1166: RuntimeWarning: divide by zero encountered in double_scalars\n",
      "  rhok = 1.0 / (np.dot(yk, sk))\n",
      "C:\\Users\\Admin\\anaconda3\\lib\\site-packages\\scipy\\optimize\\optimize.py:1166: RuntimeWarning: divide by zero encountered in double_scalars\n",
      "  rhok = 1.0 / (np.dot(yk, sk))\n",
      "C:\\Users\\Admin\\anaconda3\\lib\\site-packages\\scipy\\optimize\\optimize.py:1166: RuntimeWarning: divide by zero encountered in double_scalars\n",
      "  rhok = 1.0 / (np.dot(yk, sk))\n",
      "C:\\Users\\Admin\\anaconda3\\lib\\site-packages\\scipy\\optimize\\optimize.py:1166: RuntimeWarning: divide by zero encountered in double_scalars\n",
      "  rhok = 1.0 / (np.dot(yk, sk))\n",
      "C:\\Users\\Admin\\anaconda3\\lib\\site-packages\\scipy\\optimize\\optimize.py:1166: RuntimeWarning: divide by zero encountered in double_scalars\n",
      "  rhok = 1.0 / (np.dot(yk, sk))\n",
      "C:\\Users\\Admin\\anaconda3\\lib\\site-packages\\scipy\\optimize\\optimize.py:1166: RuntimeWarning: divide by zero encountered in double_scalars\n",
      "  rhok = 1.0 / (np.dot(yk, sk))\n",
      "C:\\Users\\Admin\\anaconda3\\lib\\site-packages\\scipy\\optimize\\optimize.py:1166: RuntimeWarning: divide by zero encountered in double_scalars\n",
      "  rhok = 1.0 / (np.dot(yk, sk))\n",
      "C:\\Users\\Admin\\anaconda3\\lib\\site-packages\\scipy\\optimize\\optimize.py:1166: RuntimeWarning: divide by zero encountered in double_scalars\n",
      "  rhok = 1.0 / (np.dot(yk, sk))\n",
      "C:\\Users\\Admin\\anaconda3\\lib\\site-packages\\scipy\\optimize\\optimize.py:1166: RuntimeWarning: divide by zero encountered in double_scalars\n",
      "  rhok = 1.0 / (np.dot(yk, sk))\n",
      "C:\\Users\\Admin\\anaconda3\\lib\\site-packages\\scipy\\optimize\\optimize.py:1166: RuntimeWarning: divide by zero encountered in double_scalars\n",
      "  rhok = 1.0 / (np.dot(yk, sk))\n",
      "C:\\Users\\Admin\\anaconda3\\lib\\site-packages\\scipy\\optimize\\optimize.py:1166: RuntimeWarning: divide by zero encountered in double_scalars\n",
      "  rhok = 1.0 / (np.dot(yk, sk))\n",
      "C:\\Users\\Admin\\anaconda3\\lib\\site-packages\\scipy\\optimize\\optimize.py:1166: RuntimeWarning: divide by zero encountered in double_scalars\n",
      "  rhok = 1.0 / (np.dot(yk, sk))\n",
      "C:\\Users\\Admin\\anaconda3\\lib\\site-packages\\scipy\\optimize\\optimize.py:1166: RuntimeWarning: divide by zero encountered in double_scalars\n",
      "  rhok = 1.0 / (np.dot(yk, sk))\n",
      "C:\\Users\\Admin\\anaconda3\\lib\\site-packages\\scipy\\optimize\\optimize.py:1166: RuntimeWarning: divide by zero encountered in double_scalars\n",
      "  rhok = 1.0 / (np.dot(yk, sk))\n",
      "C:\\Users\\Admin\\anaconda3\\lib\\site-packages\\scipy\\optimize\\optimize.py:1166: RuntimeWarning: divide by zero encountered in double_scalars\n",
      "  rhok = 1.0 / (np.dot(yk, sk))\n",
      "C:\\Users\\Admin\\anaconda3\\lib\\site-packages\\scipy\\optimize\\optimize.py:1166: RuntimeWarning: divide by zero encountered in double_scalars\n",
      "  rhok = 1.0 / (np.dot(yk, sk))\n",
      "C:\\Users\\Admin\\anaconda3\\lib\\site-packages\\scipy\\optimize\\optimize.py:1166: RuntimeWarning: divide by zero encountered in double_scalars\n",
      "  rhok = 1.0 / (np.dot(yk, sk))\n",
      "C:\\Users\\Admin\\anaconda3\\lib\\site-packages\\scipy\\optimize\\optimize.py:1166: RuntimeWarning: divide by zero encountered in double_scalars\n",
      "  rhok = 1.0 / (np.dot(yk, sk))\n",
      "C:\\Users\\Admin\\anaconda3\\lib\\site-packages\\scipy\\optimize\\optimize.py:1166: RuntimeWarning: divide by zero encountered in double_scalars\n",
      "  rhok = 1.0 / (np.dot(yk, sk))\n",
      "C:\\Users\\Admin\\anaconda3\\lib\\site-packages\\scipy\\optimize\\optimize.py:1166: RuntimeWarning: divide by zero encountered in double_scalars\n",
      "  rhok = 1.0 / (np.dot(yk, sk))\n",
      "C:\\Users\\Admin\\anaconda3\\lib\\site-packages\\scipy\\optimize\\optimize.py:1166: RuntimeWarning: divide by zero encountered in double_scalars\n",
      "  rhok = 1.0 / (np.dot(yk, sk))\n",
      "C:\\Users\\Admin\\anaconda3\\lib\\site-packages\\scipy\\optimize\\optimize.py:1166: RuntimeWarning: divide by zero encountered in double_scalars\n",
      "  rhok = 1.0 / (np.dot(yk, sk))\n",
      "C:\\Users\\Admin\\anaconda3\\lib\\site-packages\\scipy\\optimize\\optimize.py:1166: RuntimeWarning: divide by zero encountered in double_scalars\n",
      "  rhok = 1.0 / (np.dot(yk, sk))\n",
      "C:\\Users\\Admin\\anaconda3\\lib\\site-packages\\scipy\\optimize\\optimize.py:1166: RuntimeWarning: divide by zero encountered in double_scalars\n",
      "  rhok = 1.0 / (np.dot(yk, sk))\n",
      "C:\\Users\\Admin\\anaconda3\\lib\\site-packages\\scipy\\optimize\\optimize.py:1166: RuntimeWarning: divide by zero encountered in double_scalars\n",
      "  rhok = 1.0 / (np.dot(yk, sk))\n",
      "C:\\Users\\Admin\\anaconda3\\lib\\site-packages\\scipy\\optimize\\optimize.py:1166: RuntimeWarning: divide by zero encountered in double_scalars\n",
      "  rhok = 1.0 / (np.dot(yk, sk))\n",
      "C:\\Users\\Admin\\anaconda3\\lib\\site-packages\\scipy\\optimize\\optimize.py:1166: RuntimeWarning: divide by zero encountered in double_scalars\n",
      "  rhok = 1.0 / (np.dot(yk, sk))\n",
      "C:\\Users\\Admin\\anaconda3\\lib\\site-packages\\scipy\\optimize\\optimize.py:1166: RuntimeWarning: divide by zero encountered in double_scalars\n",
      "  rhok = 1.0 / (np.dot(yk, sk))\n",
      "C:\\Users\\Admin\\anaconda3\\lib\\site-packages\\scipy\\optimize\\optimize.py:1166: RuntimeWarning: divide by zero encountered in double_scalars\n",
      "  rhok = 1.0 / (np.dot(yk, sk))\n",
      "C:\\Users\\Admin\\anaconda3\\lib\\site-packages\\scipy\\optimize\\optimize.py:1166: RuntimeWarning: divide by zero encountered in double_scalars\n",
      "  rhok = 1.0 / (np.dot(yk, sk))\n",
      "C:\\Users\\Admin\\anaconda3\\lib\\site-packages\\scipy\\optimize\\optimize.py:1166: RuntimeWarning: divide by zero encountered in double_scalars\n",
      "  rhok = 1.0 / (np.dot(yk, sk))\n",
      "C:\\Users\\Admin\\anaconda3\\lib\\site-packages\\scipy\\optimize\\optimize.py:1166: RuntimeWarning: divide by zero encountered in double_scalars\n",
      "  rhok = 1.0 / (np.dot(yk, sk))\n",
      "C:\\Users\\Admin\\anaconda3\\lib\\site-packages\\scipy\\optimize\\optimize.py:1166: RuntimeWarning: divide by zero encountered in double_scalars\n",
      "  rhok = 1.0 / (np.dot(yk, sk))\n",
      "C:\\Users\\Admin\\anaconda3\\lib\\site-packages\\scipy\\optimize\\optimize.py:1177: RuntimeWarning: overflow encountered in multiply\n",
      "  Hk = np.dot(A1, np.dot(Hk, A2)) + (rhok * sk[:, np.newaxis] *\n",
      "C:\\Users\\Admin\\anaconda3\\lib\\site-packages\\scipy\\optimize\\linesearch.py:287: RuntimeWarning: invalid value encountered in multiply\n",
      "  return f(xk + alpha * pk, *args)\n"
     ]
    },
    {
     "data": {
      "text/plain": [
       "      fun: array([-3.39211811e+155])\n",
       " hess_inv: array([[inf]])\n",
       "      jac: array([1.])\n",
       "  message: 'Desired error not necessarily achieved due to precision loss.'\n",
       "     nfev: 7037\n",
       "      nit: 47\n",
       "     njev: 3518\n",
       "   status: 2\n",
       "  success: False\n",
       "        x: array([-3.39211811e+155])"
      ]
     },
     "execution_count": 51,
     "metadata": {},
     "output_type": "execute_result"
    }
   ],
   "source": [
    "def y(x):\n",
    "    return x+5\n",
    "    # Minimo: 5 -> x:0\n",
    "    \n",
    "from scipy.optimize import minimize\n",
    "minimize(y,1)"
   ]
  },
  {
   "cell_type": "code",
   "execution_count": null,
   "metadata": {},
   "outputs": [],
   "source": []
  }
 ],
 "metadata": {
  "kernelspec": {
   "display_name": "Python 3",
   "language": "python",
   "name": "python3"
  },
  "language_info": {
   "codemirror_mode": {
    "name": "ipython",
    "version": 3
   },
   "file_extension": ".py",
   "mimetype": "text/x-python",
   "name": "python",
   "nbconvert_exporter": "python",
   "pygments_lexer": "ipython3",
   "version": "3.8.3"
  }
 },
 "nbformat": 4,
 "nbformat_minor": 4
}
