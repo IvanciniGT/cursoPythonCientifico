{
 "cells": [
  {
   "cell_type": "code",
   "execution_count": 1,
   "metadata": {},
   "outputs": [
    {
     "data": {
      "text/plain": [
       "Index(['Date', 'TempHighF', 'TempAvgF', 'TempLowF', 'DewPointHighF',\n",
       "       'DewPointAvgF', 'DewPointLowF', 'HumidityHighPercent',\n",
       "       'HumidityAvgPercent', 'HumidityLowPercent',\n",
       "       'SeaLevelPressureHighInches', 'SeaLevelPressureAvgInches',\n",
       "       'SeaLevelPressureLowInches', 'VisibilityHighMiles',\n",
       "       'VisibilityAvgMiles', 'VisibilityLowMiles', 'WindHighMPH', 'WindAvgMPH',\n",
       "       'WindGustMPH', 'PrecipitationSumInches', 'Events'],\n",
       "      dtype='object')"
      ]
     },
     "execution_count": 1,
     "metadata": {},
     "output_type": "execute_result"
    }
   ],
   "source": [
    "import pandas as pd\n",
    "\n",
    "datos_del_tiempo=pd.read_csv(r'/Users/ivan/Downloads/austin_weather.csv')\n",
    "\n",
    "datos_del_tiempo.columns"
   ]
  },
  {
   "cell_type": "code",
   "execution_count": 2,
   "metadata": {},
   "outputs": [
    {
     "data": {
      "text/plain": [
       "Date                          object\n",
       "TempHighF                      int64\n",
       "TempAvgF                       int64\n",
       "TempLowF                       int64\n",
       "DewPointHighF                 object\n",
       "DewPointAvgF                  object\n",
       "DewPointLowF                  object\n",
       "HumidityHighPercent           object\n",
       "HumidityAvgPercent            object\n",
       "HumidityLowPercent            object\n",
       "SeaLevelPressureHighInches    object\n",
       "SeaLevelPressureAvgInches     object\n",
       "SeaLevelPressureLowInches     object\n",
       "VisibilityHighMiles           object\n",
       "VisibilityAvgMiles            object\n",
       "VisibilityLowMiles            object\n",
       "WindHighMPH                   object\n",
       "WindAvgMPH                    object\n",
       "WindGustMPH                   object\n",
       "PrecipitationSumInches        object\n",
       "Events                        object\n",
       "dtype: object"
      ]
     },
     "execution_count": 2,
     "metadata": {},
     "output_type": "execute_result"
    }
   ],
   "source": [
    "datos_del_tiempo.dtypes"
   ]
  },
  {
   "cell_type": "code",
   "execution_count": 10,
   "metadata": {},
   "outputs": [
    {
     "name": "stderr",
     "output_type": "stream",
     "text": [
      "<ipython-input-10-574c26f5ed3f>:13: SettingWithCopyWarning: \n",
      "A value is trying to be set on a copy of a slice from a DataFrame\n",
      "\n",
      "See the caveats in the documentation: https://pandas.pydata.org/pandas-docs/stable/user_guide/indexing.html#returning-a-view-versus-a-copy\n",
      "  datos_columna[filtro]=-1    ## Aplico el filtro\n"
     ]
    }
   ],
   "source": [
    "for nombre_columna in datos_del_tiempo.columns[4:-1]:\n",
    "    datos_columna=datos_del_tiempo[nombre_columna]\n",
    "    # Genera una matriz con True y False\n",
    "        # True??   Datos que NO sean numericos\n",
    "        # False??? Datos que son numéricos\n",
    "    filtro=datos_columna.str.replace('.','').str.isnumeric()==False\n",
    "    #                                        > FILTRO >\n",
    "    #    1      |   1   |  True   |  False  |    1    | \n",
    "    #    2      |   2   |  True   |  False  |    2    | \n",
    "    #    3.5    |   35  |  True   |  False  |   3.5   | \n",
    "    #    T      |   T   |  False  |  True   |    T    | T   <<  -1\n",
    "    #    -      |   -   |  False  |  True   |    -    | -   <<  -1\n",
    "    datos_columna[filtro]=-1    ## Aplico el filtro\n",
    "    datos_del_tiempo[nombre_columna]=datos_columna.astype(float) ## Cambio el tipo y asigno"
   ]
  },
  {
   "cell_type": "code",
   "execution_count": 11,
   "metadata": {},
   "outputs": [
    {
     "data": {
      "text/plain": [
       "Date                           object\n",
       "TempHighF                       int64\n",
       "TempAvgF                        int64\n",
       "TempLowF                        int64\n",
       "DewPointHighF                 float64\n",
       "DewPointAvgF                  float64\n",
       "DewPointLowF                  float64\n",
       "HumidityHighPercent           float64\n",
       "HumidityAvgPercent            float64\n",
       "HumidityLowPercent            float64\n",
       "SeaLevelPressureHighInches    float64\n",
       "SeaLevelPressureAvgInches     float64\n",
       "SeaLevelPressureLowInches     float64\n",
       "VisibilityHighMiles           float64\n",
       "VisibilityAvgMiles            float64\n",
       "VisibilityLowMiles            float64\n",
       "WindHighMPH                   float64\n",
       "WindAvgMPH                    float64\n",
       "WindGustMPH                   float64\n",
       "PrecipitationSumInches        float64\n",
       "Events                         object\n",
       "dtype: object"
      ]
     },
     "execution_count": 11,
     "metadata": {},
     "output_type": "execute_result"
    }
   ],
   "source": [
    "datos_del_tiempo.dtypes"
   ]
  },
  {
   "cell_type": "code",
   "execution_count": 14,
   "metadata": {},
   "outputs": [
    {
     "data": {
      "text/plain": [
       "count    1319.000000\n",
       "mean        9.069750\n",
       "std         1.743747\n",
       "min        -1.000000\n",
       "25%         9.000000\n",
       "50%        10.000000\n",
       "75%        10.000000\n",
       "max        10.000000\n",
       "Name: VisibilityAvgMiles, dtype: float64"
      ]
     },
     "execution_count": 14,
     "metadata": {},
     "output_type": "execute_result"
    }
   ],
   "source": [
    "datos_del_tiempo['VisibilityAvgMiles'].describe()"
   ]
  },
  {
   "cell_type": "code",
   "execution_count": 15,
   "metadata": {},
   "outputs": [],
   "source": [
    "visibilidad=datos_del_tiempo['VisibilityAvgMiles']"
   ]
  },
  {
   "cell_type": "code",
   "execution_count": 16,
   "metadata": {},
   "outputs": [
    {
     "data": {
      "text/plain": [
       "count    1307.000000\n",
       "mean        9.162204\n",
       "std         1.458883\n",
       "min         2.000000\n",
       "25%         9.000000\n",
       "50%        10.000000\n",
       "75%        10.000000\n",
       "max        10.000000\n",
       "Name: VisibilityAvgMiles, dtype: float64"
      ]
     },
     "execution_count": 16,
     "metadata": {},
     "output_type": "execute_result"
    }
   ],
   "source": [
    "visibilidad[visibilidad!=-1].describe()"
   ]
  },
  {
   "cell_type": "code",
   "execution_count": null,
   "metadata": {},
   "outputs": [],
   "source": [
    "# Establecer TIPOS de valores perdidos\n",
    "# Precipitaciones     Ha llovido?\n",
    "#    100               SI\n",
    "#    120               SI\n",
    "#                      SI\n",
    "#                      NO   <--- NO APLICA\n",
    "# -> Cuanto ha llovido de media? <--- 100 + 120 + ? + 0\n",
    "\n",
    "# Tipo de mascota       TIENE MASCOTA?\n",
    "#     perro                    si\n",
    "#   cocodrilo                  si\n",
    "#       NS                     si\n",
    "#       NA                     no\n",
    "# Frecuencias tipos de animales que tiene la gente que tiene animales?\n",
    "#                  n  \n",
    "#    perro         1\n",
    "#    cocodrilo     1\n",
    "#    desconocido   1\n",
    "#                  3\n",
    "\n"
   ]
  },
  {
   "cell_type": "code",
   "execution_count": 18,
   "metadata": {},
   "outputs": [
    {
     "data": {
      "text/plain": [
       "count     1319\n",
       "unique       9\n",
       "top           \n",
       "freq       903\n",
       "Name: Events, dtype: object"
      ]
     },
     "execution_count": 18,
     "metadata": {},
     "output_type": "execute_result"
    }
   ],
   "source": [
    "eventos=datos_del_tiempo['Events']\n",
    "eventos.describe()"
   ]
  },
  {
   "cell_type": "code",
   "execution_count": 20,
   "metadata": {},
   "outputs": [
    {
     "data": {
      "text/plain": [
       "array(['Rain , Thunderstorm', ' ', 'Rain', 'Fog', 'Rain , Snow',\n",
       "       'Fog , Rain', 'Thunderstorm', 'Fog , Rain , Thunderstorm',\n",
       "       'Fog , Thunderstorm'], dtype=object)"
      ]
     },
     "execution_count": 20,
     "metadata": {},
     "output_type": "execute_result"
    }
   ],
   "source": [
    "eventos.unique()"
   ]
  },
  {
   "cell_type": "code",
   "execution_count": null,
   "metadata": {},
   "outputs": [],
   "source": [
    "# Cuantitativa  ----> ?? Tabla de frecuencias? SI ... tiene sentido??? Rara vez\n",
    "# Alturas de la gente 1000    ->>>  HISTOGRAMA\n",
    "# Cuantitativa-> Ordinal (cualitativa) ---> Si tiene sentido tabla de frecuencias\n",
    "#                             ->>>  Grafico de BARRAS\n",
    "# EjeX... en un histograma tiene una escala"
   ]
  },
  {
   "cell_type": "code",
   "execution_count": 33,
   "metadata": {},
   "outputs": [
    {
     "data": {
      "text/plain": [
       "Events\n",
       "                             903\n",
       "Fog                           21\n",
       "Fog , Rain                    14\n",
       "Fog , Rain , Thunderstorm     33\n",
       "Fog , Thunderstorm             1\n",
       "Rain                         192\n",
       "Rain , Snow                    1\n",
       "Rain , Thunderstorm          137\n",
       "Thunderstorm                  17\n",
       "dtype: int64"
      ]
     },
     "execution_count": 33,
     "metadata": {},
     "output_type": "execute_result"
    }
   ],
   "source": [
    "datos_del_tiempo.groupby('Events').size()"
   ]
  },
  {
   "cell_type": "code",
   "execution_count": 22,
   "metadata": {},
   "outputs": [
    {
     "data": {
      "text/plain": [
       "SeaLevelPressureAvgInches\n",
       "-1.00     3\n",
       " 29.55    1\n",
       " 29.56    1\n",
       " 29.57    2\n",
       " 29.58    3\n",
       "         ..\n",
       " 30.60    2\n",
       " 30.63    1\n",
       " 30.64    1\n",
       " 30.68    2\n",
       " 30.74    1\n",
       "Length: 101, dtype: int64"
      ]
     },
     "execution_count": 22,
     "metadata": {},
     "output_type": "execute_result"
    }
   ],
   "source": [
    "datos_del_tiempo.groupby('SeaLevelPressureAvgInches').size()"
   ]
  },
  {
   "cell_type": "code",
   "execution_count": 23,
   "metadata": {},
   "outputs": [
    {
     "data": {
      "text/plain": [
       "count    1319.000000\n",
       "mean       29.952343\n",
       "std         1.488362\n",
       "min        -1.000000\n",
       "25%        29.910000\n",
       "50%        30.000000\n",
       "75%        30.100000\n",
       "max        30.740000\n",
       "Name: SeaLevelPressureAvgInches, dtype: float64"
      ]
     },
     "execution_count": 23,
     "metadata": {},
     "output_type": "execute_result"
    }
   ],
   "source": [
    "datos_del_tiempo['SeaLevelPressureAvgInches'].describe()"
   ]
  },
  {
   "cell_type": "code",
   "execution_count": 24,
   "metadata": {},
   "outputs": [
    {
     "data": {
      "text/plain": [
       "count    1316.000000\n",
       "mean       30.022903\n",
       "std         0.172145\n",
       "min        29.550000\n",
       "25%        29.910000\n",
       "50%        30.000000\n",
       "75%        30.100000\n",
       "max        30.740000\n",
       "Name: SeaLevelPressureAvgInches, dtype: float64"
      ]
     },
     "execution_count": 24,
     "metadata": {},
     "output_type": "execute_result"
    }
   ],
   "source": [
    "presion=datos_del_tiempo['SeaLevelPressureAvgInches']\n",
    "presion[presion!=-1].describe()"
   ]
  },
  {
   "cell_type": "code",
   "execution_count": 29,
   "metadata": {},
   "outputs": [
    {
     "data": {
      "text/plain": [
       "0        baja\n",
       "1        alta\n",
       "2        alta\n",
       "3        alta\n",
       "4        alta\n",
       "        ...  \n",
       "1314    media\n",
       "1315     baja\n",
       "1316     baja\n",
       "1317     baja\n",
       "1318    media\n",
       "Name: SeaLevelPressureAvgInches, Length: 1316, dtype: category\n",
       "Categories (3, object): [baja < media < alta]"
      ]
     },
     "execution_count": 29,
     "metadata": {},
     "output_type": "execute_result"
    }
   ],
   "source": [
    "nivel_presion=pd.qcut(presion[presion!=-1],3,['baja','media','alta'])\n",
    "nivel_presion"
   ]
  },
  {
   "cell_type": "code",
   "execution_count": 39,
   "metadata": {},
   "outputs": [
    {
     "ename": "KeyError",
     "evalue": "'baja'",
     "output_type": "error",
     "traceback": [
      "\u001b[0;31m---------------------------------------------------------------------------\u001b[0m",
      "\u001b[0;31mKeyError\u001b[0m                                  Traceback (most recent call last)",
      "\u001b[0;32m<ipython-input-39-fa3416f9b4e1>\u001b[0m in \u001b[0;36m<module>\u001b[0;34m\u001b[0m\n\u001b[0;32m----> 1\u001b[0;31m \u001b[0mnivel_presion\u001b[0m\u001b[0;34m.\u001b[0m\u001b[0mgroupby\u001b[0m\u001b[0;34m(\u001b[0m\u001b[0;34m[\u001b[0m\u001b[0;34m'baja'\u001b[0m\u001b[0;34m]\u001b[0m\u001b[0;34m)\u001b[0m\u001b[0;34m.\u001b[0m\u001b[0msize\u001b[0m\u001b[0;34m(\u001b[0m\u001b[0;34m)\u001b[0m\u001b[0;34m\u001b[0m\u001b[0;34m\u001b[0m\u001b[0m\n\u001b[0m",
      "\u001b[0;32m~/opt/anaconda3/lib/python3.8/site-packages/pandas/core/series.py\u001b[0m in \u001b[0;36mgroupby\u001b[0;34m(self, by, axis, level, as_index, sort, group_keys, squeeze, observed)\u001b[0m\n\u001b[1;32m   1676\u001b[0m         \u001b[0maxis\u001b[0m \u001b[0;34m=\u001b[0m \u001b[0mself\u001b[0m\u001b[0;34m.\u001b[0m\u001b[0m_get_axis_number\u001b[0m\u001b[0;34m(\u001b[0m\u001b[0maxis\u001b[0m\u001b[0;34m)\u001b[0m\u001b[0;34m\u001b[0m\u001b[0;34m\u001b[0m\u001b[0m\n\u001b[1;32m   1677\u001b[0m \u001b[0;34m\u001b[0m\u001b[0m\n\u001b[0;32m-> 1678\u001b[0;31m         return groupby_generic.SeriesGroupBy(\n\u001b[0m\u001b[1;32m   1679\u001b[0m             \u001b[0mobj\u001b[0m\u001b[0;34m=\u001b[0m\u001b[0mself\u001b[0m\u001b[0;34m,\u001b[0m\u001b[0;34m\u001b[0m\u001b[0;34m\u001b[0m\u001b[0m\n\u001b[1;32m   1680\u001b[0m             \u001b[0mkeys\u001b[0m\u001b[0;34m=\u001b[0m\u001b[0mby\u001b[0m\u001b[0;34m,\u001b[0m\u001b[0;34m\u001b[0m\u001b[0;34m\u001b[0m\u001b[0m\n",
      "\u001b[0;32m~/opt/anaconda3/lib/python3.8/site-packages/pandas/core/groupby/groupby.py\u001b[0m in \u001b[0;36m__init__\u001b[0;34m(self, obj, keys, axis, level, grouper, exclusions, selection, as_index, sort, group_keys, squeeze, observed, mutated)\u001b[0m\n\u001b[1;32m    401\u001b[0m             \u001b[0;32mfrom\u001b[0m \u001b[0mpandas\u001b[0m\u001b[0;34m.\u001b[0m\u001b[0mcore\u001b[0m\u001b[0;34m.\u001b[0m\u001b[0mgroupby\u001b[0m\u001b[0;34m.\u001b[0m\u001b[0mgrouper\u001b[0m \u001b[0;32mimport\u001b[0m \u001b[0mget_grouper\u001b[0m\u001b[0;34m\u001b[0m\u001b[0;34m\u001b[0m\u001b[0m\n\u001b[1;32m    402\u001b[0m \u001b[0;34m\u001b[0m\u001b[0m\n\u001b[0;32m--> 403\u001b[0;31m             grouper, exclusions, obj = get_grouper(\n\u001b[0m\u001b[1;32m    404\u001b[0m                 \u001b[0mobj\u001b[0m\u001b[0;34m,\u001b[0m\u001b[0;34m\u001b[0m\u001b[0;34m\u001b[0m\u001b[0m\n\u001b[1;32m    405\u001b[0m                 \u001b[0mkeys\u001b[0m\u001b[0;34m,\u001b[0m\u001b[0;34m\u001b[0m\u001b[0;34m\u001b[0m\u001b[0m\n",
      "\u001b[0;32m~/opt/anaconda3/lib/python3.8/site-packages/pandas/core/groupby/grouper.py\u001b[0m in \u001b[0;36mget_grouper\u001b[0;34m(obj, key, axis, level, sort, observed, mutated, validate)\u001b[0m\n\u001b[1;32m    598\u001b[0m                 \u001b[0min_axis\u001b[0m\u001b[0;34m,\u001b[0m \u001b[0mname\u001b[0m\u001b[0;34m,\u001b[0m \u001b[0mlevel\u001b[0m\u001b[0;34m,\u001b[0m \u001b[0mgpr\u001b[0m \u001b[0;34m=\u001b[0m \u001b[0;32mFalse\u001b[0m\u001b[0;34m,\u001b[0m \u001b[0;32mNone\u001b[0m\u001b[0;34m,\u001b[0m \u001b[0mgpr\u001b[0m\u001b[0;34m,\u001b[0m \u001b[0;32mNone\u001b[0m\u001b[0;34m\u001b[0m\u001b[0;34m\u001b[0m\u001b[0m\n\u001b[1;32m    599\u001b[0m             \u001b[0;32melse\u001b[0m\u001b[0;34m:\u001b[0m\u001b[0;34m\u001b[0m\u001b[0;34m\u001b[0m\u001b[0m\n\u001b[0;32m--> 600\u001b[0;31m                 \u001b[0;32mraise\u001b[0m \u001b[0mKeyError\u001b[0m\u001b[0;34m(\u001b[0m\u001b[0mgpr\u001b[0m\u001b[0;34m)\u001b[0m\u001b[0;34m\u001b[0m\u001b[0;34m\u001b[0m\u001b[0m\n\u001b[0m\u001b[1;32m    601\u001b[0m         \u001b[0;32melif\u001b[0m \u001b[0misinstance\u001b[0m\u001b[0;34m(\u001b[0m\u001b[0mgpr\u001b[0m\u001b[0;34m,\u001b[0m \u001b[0mGrouper\u001b[0m\u001b[0;34m)\u001b[0m \u001b[0;32mand\u001b[0m \u001b[0mgpr\u001b[0m\u001b[0;34m.\u001b[0m\u001b[0mkey\u001b[0m \u001b[0;32mis\u001b[0m \u001b[0;32mnot\u001b[0m \u001b[0;32mNone\u001b[0m\u001b[0;34m:\u001b[0m\u001b[0;34m\u001b[0m\u001b[0;34m\u001b[0m\u001b[0m\n\u001b[1;32m    602\u001b[0m             \u001b[0;31m# Add key to exclusions\u001b[0m\u001b[0;34m\u001b[0m\u001b[0;34m\u001b[0m\u001b[0;34m\u001b[0m\u001b[0m\n",
      "\u001b[0;31mKeyError\u001b[0m: 'baja'"
     ]
    }
   ],
   "source": [
    "nivel_presion.groupby().size()"
   ]
  },
  {
   "cell_type": "code",
   "execution_count": 42,
   "metadata": {},
   "outputs": [
    {
     "data": {
      "text/plain": [
       "0       (29.549, 29.947]\n",
       "1       (29.947, 30.343]\n",
       "2        (30.343, 30.74]\n",
       "3        (30.343, 30.74]\n",
       "4       (29.947, 30.343]\n",
       "              ...       \n",
       "1314    (29.947, 30.343]\n",
       "1315    (29.549, 29.947]\n",
       "1316    (29.549, 29.947]\n",
       "1317    (29.549, 29.947]\n",
       "1318    (29.947, 30.343]\n",
       "Name: SeaLevelPressureAvgInches, Length: 1316, dtype: category\n",
       "Categories (3, interval[float64]): [(29.549, 29.947] < (29.947, 30.343] < (30.343, 30.74]]"
      ]
     },
     "execution_count": 42,
     "metadata": {},
     "output_type": "execute_result"
    }
   ],
   "source": [
    "nivel_presion=pd.cut(presion[presion!=-1],3)#,labels=['baja','media','alta']\n",
    "nivel_presion"
   ]
  },
  {
   "cell_type": "code",
   "execution_count": 43,
   "metadata": {},
   "outputs": [
    {
     "data": {
      "text/plain": [
       "0        (0, 30]\n",
       "1       (30, 50]\n",
       "2       (30, 50]\n",
       "3       (30, 50]\n",
       "4       (30, 50]\n",
       "          ...   \n",
       "1314     (0, 30]\n",
       "1315     (0, 30]\n",
       "1316     (0, 30]\n",
       "1317     (0, 30]\n",
       "1318     (0, 30]\n",
       "Name: SeaLevelPressureAvgInches, Length: 1316, dtype: category\n",
       "Categories (2, interval[int64]): [(0, 30] < (30, 50]]"
      ]
     },
     "execution_count": 43,
     "metadata": {},
     "output_type": "execute_result"
    }
   ],
   "source": [
    "nivel_presion=pd.cut(presion[presion!=-1],(0,30,50))#,labels=['baja','media','alta']\n",
    "nivel_presion"
   ]
  },
  {
   "cell_type": "code",
   "execution_count": 58,
   "metadata": {},
   "outputs": [
    {
     "data": {
      "text/plain": [
       "Text(0.5, 1.0, 'Diagrama de presiones')"
      ]
     },
     "execution_count": 58,
     "metadata": {},
     "output_type": "execute_result"
    },
    {
     "data": {
      "image/png": "[encoded data removed]",
      "text/plain": [
       "<Figure size 432x288 with 1 Axes>"
      ]
     },
     "metadata": {
      "needs_background": "light"
     },
     "output_type": "display_data"
    }
   ],
   "source": [
    "fecha=datos_del_tiempo['Date']\n",
    "\n",
    "import matplotlib.pyplot as plt\n",
    "plt.plot(fecha[presion!=-1],presion[presion!=-1],'.')\n",
    "plt.ylabel('Presiones')\n",
    "plt.xlabel('Fecha')\n",
    "plt.title('Diagrama de presiones')"
   ]
  },
  {
   "cell_type": "code",
   "execution_count": 59,
   "metadata": {},
   "outputs": [
    {
     "data": {
      "text/plain": [
       "Date                           object\n",
       "TempHighF                       int64\n",
       "TempAvgF                        int64\n",
       "TempLowF                        int64\n",
       "DewPointHighF                 float64\n",
       "DewPointAvgF                  float64\n",
       "DewPointLowF                  float64\n",
       "HumidityHighPercent           float64\n",
       "HumidityAvgPercent            float64\n",
       "HumidityLowPercent            float64\n",
       "SeaLevelPressureHighInches    float64\n",
       "SeaLevelPressureAvgInches     float64\n",
       "SeaLevelPressureLowInches     float64\n",
       "VisibilityHighMiles           float64\n",
       "VisibilityAvgMiles            float64\n",
       "VisibilityLowMiles            float64\n",
       "WindHighMPH                   float64\n",
       "WindAvgMPH                    float64\n",
       "WindGustMPH                   float64\n",
       "PrecipitationSumInches        float64\n",
       "Events                         object\n",
       "dtype: object"
      ]
     },
     "execution_count": 59,
     "metadata": {},
     "output_type": "execute_result"
    }
   ],
   "source": [
    "datos_del_tiempo.dtypes"
   ]
  },
  {
   "cell_type": "code",
   "execution_count": 60,
   "metadata": {},
   "outputs": [
    {
     "data": {
      "text/html": [
       "<div>\n",
       "<style scoped>\n",
       "    .dataframe tbody tr th:only-of-type {\n",
       "        vertical-align: middle;\n",
       "    }\n",
       "\n",
       "    .dataframe tbody tr th {\n",
       "        vertical-align: top;\n",
       "    }\n",
       "\n",
       "    .dataframe thead th {\n",
       "        text-align: right;\n",
       "    }\n",
       "</style>\n",
       "<table border=\"1\" class=\"dataframe\">\n",
       "  <thead>\n",
       "    <tr style=\"text-align: right;\">\n",
       "      <th></th>\n",
       "      <th>Date</th>\n",
       "      <th>TempHighF</th>\n",
       "      <th>TempAvgF</th>\n",
       "      <th>TempLowF</th>\n",
       "      <th>DewPointHighF</th>\n",
       "      <th>DewPointAvgF</th>\n",
       "      <th>DewPointLowF</th>\n",
       "      <th>HumidityHighPercent</th>\n",
       "      <th>HumidityAvgPercent</th>\n",
       "      <th>HumidityLowPercent</th>\n",
       "      <th>...</th>\n",
       "      <th>SeaLevelPressureAvgInches</th>\n",
       "      <th>SeaLevelPressureLowInches</th>\n",
       "      <th>VisibilityHighMiles</th>\n",
       "      <th>VisibilityAvgMiles</th>\n",
       "      <th>VisibilityLowMiles</th>\n",
       "      <th>WindHighMPH</th>\n",
       "      <th>WindAvgMPH</th>\n",
       "      <th>WindGustMPH</th>\n",
       "      <th>PrecipitationSumInches</th>\n",
       "      <th>Events</th>\n",
       "    </tr>\n",
       "  </thead>\n",
       "  <tbody>\n",
       "    <tr>\n",
       "      <th>0</th>\n",
       "      <td>2013-12-21</td>\n",
       "      <td>74</td>\n",
       "      <td>60</td>\n",
       "      <td>45</td>\n",
       "      <td>67.0</td>\n",
       "      <td>49.0</td>\n",
       "      <td>43.0</td>\n",
       "      <td>93.0</td>\n",
       "      <td>75.0</td>\n",
       "      <td>57.0</td>\n",
       "      <td>...</td>\n",
       "      <td>29.68</td>\n",
       "      <td>29.59</td>\n",
       "      <td>10.0</td>\n",
       "      <td>7.0</td>\n",
       "      <td>2.0</td>\n",
       "      <td>20.0</td>\n",
       "      <td>4.0</td>\n",
       "      <td>31.0</td>\n",
       "      <td>0.46</td>\n",
       "      <td>Rain , Thunderstorm</td>\n",
       "    </tr>\n",
       "    <tr>\n",
       "      <th>1</th>\n",
       "      <td>2013-12-22</td>\n",
       "      <td>56</td>\n",
       "      <td>48</td>\n",
       "      <td>39</td>\n",
       "      <td>43.0</td>\n",
       "      <td>36.0</td>\n",
       "      <td>28.0</td>\n",
       "      <td>93.0</td>\n",
       "      <td>68.0</td>\n",
       "      <td>43.0</td>\n",
       "      <td>...</td>\n",
       "      <td>30.13</td>\n",
       "      <td>29.87</td>\n",
       "      <td>10.0</td>\n",
       "      <td>10.0</td>\n",
       "      <td>5.0</td>\n",
       "      <td>16.0</td>\n",
       "      <td>6.0</td>\n",
       "      <td>25.0</td>\n",
       "      <td>0.00</td>\n",
       "      <td></td>\n",
       "    </tr>\n",
       "    <tr>\n",
       "      <th>2</th>\n",
       "      <td>2013-12-23</td>\n",
       "      <td>58</td>\n",
       "      <td>45</td>\n",
       "      <td>32</td>\n",
       "      <td>31.0</td>\n",
       "      <td>27.0</td>\n",
       "      <td>23.0</td>\n",
       "      <td>76.0</td>\n",
       "      <td>52.0</td>\n",
       "      <td>27.0</td>\n",
       "      <td>...</td>\n",
       "      <td>30.49</td>\n",
       "      <td>30.41</td>\n",
       "      <td>10.0</td>\n",
       "      <td>10.0</td>\n",
       "      <td>10.0</td>\n",
       "      <td>8.0</td>\n",
       "      <td>3.0</td>\n",
       "      <td>12.0</td>\n",
       "      <td>0.00</td>\n",
       "      <td></td>\n",
       "    </tr>\n",
       "    <tr>\n",
       "      <th>3</th>\n",
       "      <td>2013-12-24</td>\n",
       "      <td>61</td>\n",
       "      <td>46</td>\n",
       "      <td>31</td>\n",
       "      <td>36.0</td>\n",
       "      <td>28.0</td>\n",
       "      <td>21.0</td>\n",
       "      <td>89.0</td>\n",
       "      <td>56.0</td>\n",
       "      <td>22.0</td>\n",
       "      <td>...</td>\n",
       "      <td>30.45</td>\n",
       "      <td>30.30</td>\n",
       "      <td>10.0</td>\n",
       "      <td>10.0</td>\n",
       "      <td>7.0</td>\n",
       "      <td>12.0</td>\n",
       "      <td>4.0</td>\n",
       "      <td>20.0</td>\n",
       "      <td>0.00</td>\n",
       "      <td></td>\n",
       "    </tr>\n",
       "    <tr>\n",
       "      <th>4</th>\n",
       "      <td>2013-12-25</td>\n",
       "      <td>58</td>\n",
       "      <td>50</td>\n",
       "      <td>41</td>\n",
       "      <td>44.0</td>\n",
       "      <td>40.0</td>\n",
       "      <td>36.0</td>\n",
       "      <td>86.0</td>\n",
       "      <td>71.0</td>\n",
       "      <td>56.0</td>\n",
       "      <td>...</td>\n",
       "      <td>30.33</td>\n",
       "      <td>30.27</td>\n",
       "      <td>10.0</td>\n",
       "      <td>10.0</td>\n",
       "      <td>7.0</td>\n",
       "      <td>10.0</td>\n",
       "      <td>2.0</td>\n",
       "      <td>16.0</td>\n",
       "      <td>-1.00</td>\n",
       "      <td></td>\n",
       "    </tr>\n",
       "    <tr>\n",
       "      <th>...</th>\n",
       "      <td>...</td>\n",
       "      <td>...</td>\n",
       "      <td>...</td>\n",
       "      <td>...</td>\n",
       "      <td>...</td>\n",
       "      <td>...</td>\n",
       "      <td>...</td>\n",
       "      <td>...</td>\n",
       "      <td>...</td>\n",
       "      <td>...</td>\n",
       "      <td>...</td>\n",
       "      <td>...</td>\n",
       "      <td>...</td>\n",
       "      <td>...</td>\n",
       "      <td>...</td>\n",
       "      <td>...</td>\n",
       "      <td>...</td>\n",
       "      <td>...</td>\n",
       "      <td>...</td>\n",
       "      <td>...</td>\n",
       "      <td>...</td>\n",
       "    </tr>\n",
       "    <tr>\n",
       "      <th>1314</th>\n",
       "      <td>2017-07-27</td>\n",
       "      <td>103</td>\n",
       "      <td>89</td>\n",
       "      <td>75</td>\n",
       "      <td>71.0</td>\n",
       "      <td>67.0</td>\n",
       "      <td>61.0</td>\n",
       "      <td>82.0</td>\n",
       "      <td>54.0</td>\n",
       "      <td>25.0</td>\n",
       "      <td>...</td>\n",
       "      <td>29.97</td>\n",
       "      <td>29.88</td>\n",
       "      <td>10.0</td>\n",
       "      <td>10.0</td>\n",
       "      <td>10.0</td>\n",
       "      <td>12.0</td>\n",
       "      <td>5.0</td>\n",
       "      <td>21.0</td>\n",
       "      <td>0.00</td>\n",
       "      <td></td>\n",
       "    </tr>\n",
       "    <tr>\n",
       "      <th>1315</th>\n",
       "      <td>2017-07-28</td>\n",
       "      <td>105</td>\n",
       "      <td>91</td>\n",
       "      <td>76</td>\n",
       "      <td>71.0</td>\n",
       "      <td>64.0</td>\n",
       "      <td>55.0</td>\n",
       "      <td>87.0</td>\n",
       "      <td>54.0</td>\n",
       "      <td>20.0</td>\n",
       "      <td>...</td>\n",
       "      <td>29.90</td>\n",
       "      <td>29.81</td>\n",
       "      <td>10.0</td>\n",
       "      <td>10.0</td>\n",
       "      <td>10.0</td>\n",
       "      <td>14.0</td>\n",
       "      <td>5.0</td>\n",
       "      <td>20.0</td>\n",
       "      <td>0.00</td>\n",
       "      <td></td>\n",
       "    </tr>\n",
       "    <tr>\n",
       "      <th>1316</th>\n",
       "      <td>2017-07-29</td>\n",
       "      <td>107</td>\n",
       "      <td>92</td>\n",
       "      <td>77</td>\n",
       "      <td>72.0</td>\n",
       "      <td>64.0</td>\n",
       "      <td>55.0</td>\n",
       "      <td>82.0</td>\n",
       "      <td>51.0</td>\n",
       "      <td>19.0</td>\n",
       "      <td>...</td>\n",
       "      <td>29.86</td>\n",
       "      <td>29.79</td>\n",
       "      <td>10.0</td>\n",
       "      <td>10.0</td>\n",
       "      <td>10.0</td>\n",
       "      <td>12.0</td>\n",
       "      <td>4.0</td>\n",
       "      <td>17.0</td>\n",
       "      <td>0.00</td>\n",
       "      <td></td>\n",
       "    </tr>\n",
       "    <tr>\n",
       "      <th>1317</th>\n",
       "      <td>2017-07-30</td>\n",
       "      <td>106</td>\n",
       "      <td>93</td>\n",
       "      <td>79</td>\n",
       "      <td>70.0</td>\n",
       "      <td>68.0</td>\n",
       "      <td>63.0</td>\n",
       "      <td>69.0</td>\n",
       "      <td>48.0</td>\n",
       "      <td>27.0</td>\n",
       "      <td>...</td>\n",
       "      <td>29.91</td>\n",
       "      <td>29.87</td>\n",
       "      <td>10.0</td>\n",
       "      <td>10.0</td>\n",
       "      <td>10.0</td>\n",
       "      <td>13.0</td>\n",
       "      <td>4.0</td>\n",
       "      <td>20.0</td>\n",
       "      <td>0.00</td>\n",
       "      <td></td>\n",
       "    </tr>\n",
       "    <tr>\n",
       "      <th>1318</th>\n",
       "      <td>2017-07-31</td>\n",
       "      <td>99</td>\n",
       "      <td>88</td>\n",
       "      <td>77</td>\n",
       "      <td>66.0</td>\n",
       "      <td>61.0</td>\n",
       "      <td>54.0</td>\n",
       "      <td>64.0</td>\n",
       "      <td>43.0</td>\n",
       "      <td>22.0</td>\n",
       "      <td>...</td>\n",
       "      <td>29.97</td>\n",
       "      <td>29.91</td>\n",
       "      <td>10.0</td>\n",
       "      <td>10.0</td>\n",
       "      <td>10.0</td>\n",
       "      <td>12.0</td>\n",
       "      <td>4.0</td>\n",
       "      <td>20.0</td>\n",
       "      <td>0.00</td>\n",
       "      <td></td>\n",
       "    </tr>\n",
       "  </tbody>\n",
       "</table>\n",
       "<p>1319 rows × 21 columns</p>\n",
       "</div>"
      ],
      "text/plain": [
       "            Date  TempHighF  TempAvgF  TempLowF  DewPointHighF  DewPointAvgF  \\\n",
       "0     2013-12-21         74        60        45           67.0          49.0   \n",
       "1     2013-12-22         56        48        39           43.0          36.0   \n",
       "2     2013-12-23         58        45        32           31.0          27.0   \n",
       "3     2013-12-24         61        46        31           36.0          28.0   \n",
       "4     2013-12-25         58        50        41           44.0          40.0   \n",
       "...          ...        ...       ...       ...            ...           ...   \n",
       "1314  2017-07-27        103        89        75           71.0          67.0   \n",
       "1315  2017-07-28        105        91        76           71.0          64.0   \n",
       "1316  2017-07-29        107        92        77           72.0          64.0   \n",
       "1317  2017-07-30        106        93        79           70.0          68.0   \n",
       "1318  2017-07-31         99        88        77           66.0          61.0   \n",
       "\n",
       "      DewPointLowF  HumidityHighPercent  HumidityAvgPercent  \\\n",
       "0             43.0                 93.0                75.0   \n",
       "1             28.0                 93.0                68.0   \n",
       "2             23.0                 76.0                52.0   \n",
       "3             21.0                 89.0                56.0   \n",
       "4             36.0                 86.0                71.0   \n",
       "...            ...                  ...                 ...   \n",
       "1314          61.0                 82.0                54.0   \n",
       "1315          55.0                 87.0                54.0   \n",
       "1316          55.0                 82.0                51.0   \n",
       "1317          63.0                 69.0                48.0   \n",
       "1318          54.0                 64.0                43.0   \n",
       "\n",
       "      HumidityLowPercent  ...  SeaLevelPressureAvgInches  \\\n",
       "0                   57.0  ...                      29.68   \n",
       "1                   43.0  ...                      30.13   \n",
       "2                   27.0  ...                      30.49   \n",
       "3                   22.0  ...                      30.45   \n",
       "4                   56.0  ...                      30.33   \n",
       "...                  ...  ...                        ...   \n",
       "1314                25.0  ...                      29.97   \n",
       "1315                20.0  ...                      29.90   \n",
       "1316                19.0  ...                      29.86   \n",
       "1317                27.0  ...                      29.91   \n",
       "1318                22.0  ...                      29.97   \n",
       "\n",
       "      SeaLevelPressureLowInches  VisibilityHighMiles  VisibilityAvgMiles  \\\n",
       "0                         29.59                 10.0                 7.0   \n",
       "1                         29.87                 10.0                10.0   \n",
       "2                         30.41                 10.0                10.0   \n",
       "3                         30.30                 10.0                10.0   \n",
       "4                         30.27                 10.0                10.0   \n",
       "...                         ...                  ...                 ...   \n",
       "1314                      29.88                 10.0                10.0   \n",
       "1315                      29.81                 10.0                10.0   \n",
       "1316                      29.79                 10.0                10.0   \n",
       "1317                      29.87                 10.0                10.0   \n",
       "1318                      29.91                 10.0                10.0   \n",
       "\n",
       "      VisibilityLowMiles  WindHighMPH  WindAvgMPH  WindGustMPH  \\\n",
       "0                    2.0         20.0         4.0         31.0   \n",
       "1                    5.0         16.0         6.0         25.0   \n",
       "2                   10.0          8.0         3.0         12.0   \n",
       "3                    7.0         12.0         4.0         20.0   \n",
       "4                    7.0         10.0         2.0         16.0   \n",
       "...                  ...          ...         ...          ...   \n",
       "1314                10.0         12.0         5.0         21.0   \n",
       "1315                10.0         14.0         5.0         20.0   \n",
       "1316                10.0         12.0         4.0         17.0   \n",
       "1317                10.0         13.0         4.0         20.0   \n",
       "1318                10.0         12.0         4.0         20.0   \n",
       "\n",
       "      PrecipitationSumInches               Events  \n",
       "0                       0.46  Rain , Thunderstorm  \n",
       "1                       0.00                       \n",
       "2                       0.00                       \n",
       "3                       0.00                       \n",
       "4                      -1.00                       \n",
       "...                      ...                  ...  \n",
       "1314                    0.00                       \n",
       "1315                    0.00                       \n",
       "1316                    0.00                       \n",
       "1317                    0.00                       \n",
       "1318                    0.00                       \n",
       "\n",
       "[1319 rows x 21 columns]"
      ]
     },
     "execution_count": 60,
     "metadata": {},
     "output_type": "execute_result"
    }
   ],
   "source": [
    "datos_del_tiempo"
   ]
  },
  {
   "cell_type": "code",
   "execution_count": 64,
   "metadata": {},
   "outputs": [
    {
     "data": {
      "text/plain": [
       "Timestamp('2017-07-28 00:00:00')"
      ]
     },
     "execution_count": 64,
     "metadata": {},
     "output_type": "execute_result"
    }
   ],
   "source": [
    "pd.Timestamp('2017-07-28')"
   ]
  },
  {
   "cell_type": "code",
   "execution_count": 67,
   "metadata": {},
   "outputs": [],
   "source": [
    "fecha_texto=datos_del_tiempo['Date']\n",
    "fecha=datos_del_tiempo['Date'].apply(lambda texto: pd.Timestamp(texto))"
   ]
  },
  {
   "cell_type": "code",
   "execution_count": 68,
   "metadata": {},
   "outputs": [
    {
     "data": {
      "text/plain": [
       "0      2013-12-21\n",
       "1      2013-12-22\n",
       "2      2013-12-23\n",
       "3      2013-12-24\n",
       "4      2013-12-25\n",
       "          ...    \n",
       "1314   2017-07-27\n",
       "1315   2017-07-28\n",
       "1316   2017-07-29\n",
       "1317   2017-07-30\n",
       "1318   2017-07-31\n",
       "Name: Date, Length: 1319, dtype: datetime64[ns]"
      ]
     },
     "execution_count": 68,
     "metadata": {},
     "output_type": "execute_result"
    }
   ],
   "source": [
    "fecha"
   ]
  },
  {
   "cell_type": "code",
   "execution_count": 69,
   "metadata": {},
   "outputs": [],
   "source": [
    "datos_del_tiempo['Date']=datos_del_tiempo['Date'].apply(lambda texto: pd.Timestamp(texto))"
   ]
  },
  {
   "cell_type": "code",
   "execution_count": 70,
   "metadata": {},
   "outputs": [
    {
     "data": {
      "text/plain": [
       "Date                          datetime64[ns]\n",
       "TempHighF                              int64\n",
       "TempAvgF                               int64\n",
       "TempLowF                               int64\n",
       "DewPointHighF                        float64\n",
       "DewPointAvgF                         float64\n",
       "DewPointLowF                         float64\n",
       "HumidityHighPercent                  float64\n",
       "HumidityAvgPercent                   float64\n",
       "HumidityLowPercent                   float64\n",
       "SeaLevelPressureHighInches           float64\n",
       "SeaLevelPressureAvgInches            float64\n",
       "SeaLevelPressureLowInches            float64\n",
       "VisibilityHighMiles                  float64\n",
       "VisibilityAvgMiles                   float64\n",
       "VisibilityLowMiles                   float64\n",
       "WindHighMPH                          float64\n",
       "WindAvgMPH                           float64\n",
       "WindGustMPH                          float64\n",
       "PrecipitationSumInches               float64\n",
       "Events                                object\n",
       "dtype: object"
      ]
     },
     "execution_count": 70,
     "metadata": {},
     "output_type": "execute_result"
    }
   ],
   "source": [
    "datos_del_tiempo.dtypes"
   ]
  },
  {
   "cell_type": "code",
   "execution_count": 71,
   "metadata": {},
   "outputs": [
    {
     "data": {
      "text/plain": [
       "Text(0.5, 1.0, 'Diagrama de presiones')"
      ]
     },
     "execution_count": 71,
     "metadata": {},
     "output_type": "execute_result"
    },
    {
     "data": {
      "image/png": "[encoded data removed]",
      "text/plain": [
       "<Figure size 432x288 with 1 Axes>"
      ]
     },
     "metadata": {
      "needs_background": "light"
     },
     "output_type": "display_data"
    }
   ],
   "source": [
    "import matplotlib.pyplot as plt\n",
    "plt.plot(datos_del_tiempo['Date'][presion!=-1],presion[presion!=-1],'.')\n",
    "plt.ylabel('Presiones')\n",
    "plt.xlabel('Fecha')\n",
    "plt.title('Diagrama de presiones')"
   ]
  },
  {
   "cell_type": "code",
   "execution_count": 75,
   "metadata": {},
   "outputs": [
    {
     "data": {
      "text/plain": [
       "Text(0.5, 1.0, 'Diagrama de precipitaciones acumulado')"
      ]
     },
     "execution_count": 75,
     "metadata": {},
     "output_type": "execute_result"
    },
    {
     "data": {
      "image/png": "[encoded data removed]",
      "text/plain": [
       "<Figure size 432x288 with 1 Axes>"
      ]
     },
     "metadata": {
      "needs_background": "light"
     },
     "output_type": "display_data"
    }
   ],
   "source": [
    "import matplotlib.pyplot as plt\n",
    "precipitaciones=datos_del_tiempo['PrecipitationSumInches']\n",
    "precipitaciones_limpias=precipitaciones[precipitaciones!=-1]\n",
    "fechas=datos_del_tiempo['Date']\n",
    "fechas_limpias=fechas[precipitaciones!=-1]\n",
    "\n",
    "precipitaciones_acumuladas=precipitaciones_limpias.cumsum()\n",
    "\n",
    "\n",
    "plt.plot(fechas_limpias,precipitaciones_acumuladas,'-')\n",
    "plt.ylabel('Precipitaciones acumulado')\n",
    "plt.xlabel('Fecha')\n",
    "plt.title('Diagrama de precipitaciones acumulado')"
   ]
  },
  {
   "cell_type": "code",
   "execution_count": 76,
   "metadata": {},
   "outputs": [
    {
     "data": {
      "text/plain": [
       "Index(['Date', 'TempHighF', 'TempAvgF', 'TempLowF', 'DewPointHighF',\n",
       "       'DewPointAvgF', 'DewPointLowF', 'HumidityHighPercent',\n",
       "       'HumidityAvgPercent', 'HumidityLowPercent',\n",
       "       'SeaLevelPressureHighInches', 'SeaLevelPressureAvgInches',\n",
       "       'SeaLevelPressureLowInches', 'VisibilityHighMiles',\n",
       "       'VisibilityAvgMiles', 'VisibilityLowMiles', 'WindHighMPH', 'WindAvgMPH',\n",
       "       'WindGustMPH', 'PrecipitationSumInches', 'Events'],\n",
       "      dtype='object')"
      ]
     },
     "execution_count": 76,
     "metadata": {},
     "output_type": "execute_result"
    }
   ],
   "source": [
    "datos_del_tiempo.columns"
   ]
  },
  {
   "cell_type": "code",
   "execution_count": 79,
   "metadata": {},
   "outputs": [
    {
     "data": {
      "text/plain": [
       "<matplotlib.legend.Legend at 0x7ffa8cea7100>"
      ]
     },
     "execution_count": 79,
     "metadata": {},
     "output_type": "execute_result"
    },
    {
     "data": {
      "image/png": "[encoded data removed]",
      "text/plain": [
       "<Figure size 432x288 with 1 Axes>"
      ]
     },
     "metadata": {
      "needs_background": "light"
     },
     "output_type": "display_data"
    }
   ],
   "source": [
    "\n",
    "\n",
    "plt.plot(datos_del_tiempo['Date'],datos_del_tiempo['TempHighF'],label='Maximas')\n",
    "plt.plot(datos_del_tiempo['Date'],datos_del_tiempo['TempAvgF'],label='Medias')\n",
    "plt.plot(datos_del_tiempo['Date'],datos_del_tiempo['TempLowF'],label='Minimas')\n",
    "#Convert from a temperature scale to another one among Celsius, Kelvin, Fahrenheit, and Rankine scales.plt.legend()"
   ]
  },
  {
   "cell_type": "code",
   "execution_count": 82,
   "metadata": {},
   "outputs": [
    {
     "data": {
      "text/plain": [
       "21.111111111111086"
      ]
     },
     "execution_count": 82,
     "metadata": {},
     "output_type": "execute_result"
    }
   ],
   "source": [
    "#Convert from a temperature scale to another one among Celsius, Kelvin, Fahrenheit, and Rankine scales.\n",
    "from scipy.constants import convert_temperature as convertir\n",
    "convertir(70, 'Fahrenheit', 'Celsius')\n",
    "\n"
   ]
  },
  {
   "cell_type": "code",
   "execution_count": 83,
   "metadata": {},
   "outputs": [
    {
     "data": {
      "text/plain": [
       "[<matplotlib.lines.Line2D at 0x7ffa8dd86250>]"
      ]
     },
     "execution_count": 83,
     "metadata": {},
     "output_type": "execute_result"
    },
    {
     "data": {
      "image/png": "[encoded data removed]",
      "text/plain": [
       "<Figure size 432x288 with 1 Axes>"
      ]
     },
     "metadata": {
      "needs_background": "light"
     },
     "output_type": "display_data"
    }
   ],
   "source": [
    "#.apply(lambda t: convertir(t,'Fahrenheit', 'Celsius'))\n",
    "\n",
    "plt.plot(datos_del_tiempo['Date'],datos_del_tiempo['TempHighF'].apply(lambda t: convertir(t,'Fahrenheit', 'Celsius')),label='Maximas')\n",
    "plt.plot(datos_del_tiempo['Date'],datos_del_tiempo['TempAvgF'].apply(lambda t: convertir(t,'Fahrenheit', 'Celsius')),label='Medias')\n",
    "plt.plot(datos_del_tiempo['Date'],datos_del_tiempo['TempLowF'].apply(lambda t: convertir(t,'Fahrenheit', 'Celsius')),label='Minimas')\n"
   ]
  },
  {
   "cell_type": "code",
   "execution_count": 86,
   "metadata": {},
   "outputs": [
    {
     "data": {
      "text/plain": [
       "Events\n",
       "                             903\n",
       "Fog                           21\n",
       "Fog , Rain                    14\n",
       "Fog , Rain , Thunderstorm     33\n",
       "Fog , Thunderstorm             1\n",
       "Rain                         192\n",
       "Rain , Snow                    1\n",
       "Rain , Thunderstorm          137\n",
       "Thunderstorm                  17\n",
       "dtype: int64"
      ]
     },
     "execution_count": 86,
     "metadata": {},
     "output_type": "execute_result"
    }
   ],
   "source": [
    "frecuencias_eventos=datos_del_tiempo.groupby('Events').size()\n",
    "frecuencias_eventos\n",
    "# Es como un dataframe.... Pero se llama SERIES= Dataframe, pero que solo tiene 1 columna"
   ]
  },
  {
   "cell_type": "code",
   "execution_count": 89,
   "metadata": {},
   "outputs": [
    {
     "data": {
      "text/plain": [
       "([0, 1, 2, 3, 4, 5, 6, 7, 8], <a list of 9 Text major ticklabel objects>)"
      ]
     },
     "execution_count": 89,
     "metadata": {},
     "output_type": "execute_result"
    },
    {
     "data": {
      "image/png": "[encoded data removed]",
      "text/plain": [
       "<Figure size 432x288 with 1 Axes>"
      ]
     },
     "metadata": {
      "needs_background": "light"
     },
     "output_type": "display_data"
    }
   ],
   "source": [
    "frecuencias_eventos_ordenados=frecuencias_eventos.sort_values(ascending=False)\n",
    "\n",
    "plt.bar( frecuencias_eventos_ordenados.index, frecuencias_eventos_ordenados )\n",
    "plt.xticks(rotation=90)"
   ]
  },
  {
   "cell_type": "code",
   "execution_count": null,
   "metadata": {},
   "outputs": [],
   "source": []
  }
 ],
 "metadata": {
  "kernelspec": {
   "display_name": "Python 3",
   "language": "python",
   "name": "python3"
  },
  "language_info": {
   "codemirror_mode": {
    "name": "ipython",
    "version": 3
   },
   "file_extension": ".py",
   "mimetype": "text/x-python",
   "name": "python",
   "nbconvert_exporter": "python",
   "pygments_lexer": "ipython3",
   "version": "3.8.3"
  }
 },
 "nbformat": 4,
 "nbformat_minor": 4
}
