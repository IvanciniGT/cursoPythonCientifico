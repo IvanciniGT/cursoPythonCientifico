{
 "cells": [
  {
   "cell_type": "code",
   "execution_count": 2,
   "metadata": {},
   "outputs": [
    {
     "name": "stdout",
     "output_type": "stream",
     "text": [
      "Empty DataFrame\n",
      "Columns: []\n",
      "Index: []\n"
     ]
    }
   ],
   "source": [
    "# Para usar pandas, lo primero importarlo\n",
    "import pandas as pd\n",
    "# Concepto básico en NUMPY es el ARRAY\n",
    "# Concepto básico en PANDAS es el DATAFRAME\n",
    "mi_dataframe=pd.DataFrame()\n",
    "print(mi_dataframe)"
   ]
  },
  {
   "cell_type": "code",
   "execution_count": 3,
   "metadata": {},
   "outputs": [
    {
     "name": "stdout",
     "output_type": "stream",
     "text": [
      "         0\n",
      "0     Ivan\n",
      "1   Monica\n",
      "2     Luis\n",
      "3  Gerardo\n",
      "4      Mar\n"
     ]
    }
   ],
   "source": [
    "nombres=('Ivan','Monica','Luis','Gerardo','Mar')\n",
    "mi_dataframe=pd.DataFrame(nombres)\n",
    "print(mi_dataframe)"
   ]
  },
  {
   "cell_type": "code",
   "execution_count": 4,
   "metadata": {},
   "outputs": [
    {
     "data": {
      "text/plain": [
       "RangeIndex(start=0, stop=1, step=1)"
      ]
     },
     "execution_count": 4,
     "metadata": {},
     "output_type": "execute_result"
    }
   ],
   "source": [
    "mi_dataframe.columns"
   ]
  },
  {
   "cell_type": "code",
   "execution_count": 5,
   "metadata": {},
   "outputs": [
    {
     "data": {
      "text/plain": [
       "RangeIndex(start=0, stop=5, step=1)"
      ]
     },
     "execution_count": 5,
     "metadata": {},
     "output_type": "execute_result"
    }
   ],
   "source": [
    "mi_dataframe.index"
   ]
  },
  {
   "cell_type": "markdown",
   "metadata": {},
   "source": [
    "# Identificacion de Filas y Columnas"
   ]
  },
  {
   "cell_type": "code",
   "execution_count": 6,
   "metadata": {},
   "outputs": [
    {
     "name": "stdout",
     "output_type": "stream",
     "text": [
      "    Nombre\n",
      "0     Ivan\n",
      "1   Monica\n",
      "2     Luis\n",
      "3  Gerardo\n",
      "4      Mar\n"
     ]
    }
   ],
   "source": [
    "mi_dataframe.columns=['Nombre']\n",
    "print(mi_dataframe)"
   ]
  },
  {
   "cell_type": "code",
   "execution_count": 7,
   "metadata": {},
   "outputs": [
    {
     "name": "stdout",
     "output_type": "stream",
     "text": [
      "    Nombre\n",
      "0     Ivan\n",
      "1   Monica\n",
      "2     Luis\n",
      "3  Gerardo\n",
      "4      Mar\n"
     ]
    }
   ],
   "source": [
    "mi_dataframe=pd.DataFrame(nombres, columns=[\"Nombre\"])\n",
    "print(mi_dataframe)"
   ]
  },
  {
   "cell_type": "code",
   "execution_count": 8,
   "metadata": {},
   "outputs": [
    {
     "name": "stdout",
     "output_type": "stream",
     "text": [
      "         0   1\n",
      "0     Ivan  42\n",
      "1   Monica  37\n",
      "2     Luis  32\n",
      "3  Gerardo  46\n",
      "4      Mar  38\n"
     ]
    }
   ],
   "source": [
    "personas=(('Ivan',42),('Monica',37),('Luis',32),('Gerardo',46),('Mar',38))\n",
    "mi_dataframe=pd.DataFrame(personas)\n",
    "print(mi_dataframe)"
   ]
  },
  {
   "cell_type": "code",
   "execution_count": 10,
   "metadata": {},
   "outputs": [
    {
     "data": {
      "text/plain": [
       "0    42\n",
       "1    37\n",
       "2    32\n",
       "3    46\n",
       "4    38\n",
       "Name: 1, dtype: int64"
      ]
     },
     "execution_count": 10,
     "metadata": {},
     "output_type": "execute_result"
    }
   ],
   "source": [
    "mi_dataframe[1]"
   ]
  },
  {
   "cell_type": "code",
   "execution_count": 11,
   "metadata": {},
   "outputs": [],
   "source": [
    "mi_dataframe.columns=['Nombre','Edad']"
   ]
  },
  {
   "cell_type": "code",
   "execution_count": 13,
   "metadata": {},
   "outputs": [
    {
     "data": {
      "text/plain": [
       "0    42\n",
       "1    37\n",
       "2    32\n",
       "3    46\n",
       "4    38\n",
       "Name: Edad, dtype: int64"
      ]
     },
     "execution_count": 13,
     "metadata": {},
     "output_type": "execute_result"
    }
   ],
   "source": [
    "#mi_dataframe[1] # En este caso tendría un error\n",
    "mi_dataframe['Edad']"
   ]
  },
  {
   "cell_type": "code",
   "execution_count": 14,
   "metadata": {},
   "outputs": [
    {
     "data": {
      "text/plain": [
       "0       Ivan\n",
       "1     Monica\n",
       "2       Luis\n",
       "3    Gerardo\n",
       "4        Mar\n",
       "Name: Nombre, dtype: object"
      ]
     },
     "execution_count": 14,
     "metadata": {},
     "output_type": "execute_result"
    }
   ],
   "source": [
    "mi_dataframe['Nombre']"
   ]
  },
  {
   "cell_type": "code",
   "execution_count": 15,
   "metadata": {},
   "outputs": [
    {
     "data": {
      "text/plain": [
       "Index(['Nombre', 'Edad'], dtype='object')"
      ]
     },
     "execution_count": 15,
     "metadata": {},
     "output_type": "execute_result"
    }
   ],
   "source": [
    "mi_dataframe.columns"
   ]
  },
  {
   "cell_type": "code",
   "execution_count": 18,
   "metadata": {},
   "outputs": [],
   "source": [
    "#mi_dataframe.columns[1]='edad' # Esto no lo puedo hacer\n"
   ]
  },
  {
   "cell_type": "code",
   "execution_count": 15,
   "metadata": {},
   "outputs": [
    {
     "ename": "TypeError",
     "evalue": "__init__() got an unexpected keyword argument 'dtypes'",
     "output_type": "error",
     "traceback": [
      "\u001b[1;31m---------------------------------------------------------------------------\u001b[0m",
      "\u001b[1;31mTypeError\u001b[0m                                 Traceback (most recent call last)",
      "\u001b[1;32m<ipython-input-15-cfa8289c47bc>\u001b[0m in \u001b[0;36m<module>\u001b[1;34m\u001b[0m\n\u001b[0;32m      1\u001b[0m \u001b[1;32mimport\u001b[0m \u001b[0mnumpy\u001b[0m \u001b[1;32mas\u001b[0m \u001b[0mnp\u001b[0m\u001b[1;33m\u001b[0m\u001b[1;33m\u001b[0m\u001b[0m\n\u001b[0;32m      2\u001b[0m \u001b[0mpersonas\u001b[0m\u001b[1;33m=\u001b[0m\u001b[1;33m(\u001b[0m\u001b[1;33m(\u001b[0m\u001b[1;34m'Ivan'\u001b[0m\u001b[1;33m,\u001b[0m\u001b[1;36m42\u001b[0m\u001b[1;33m)\u001b[0m\u001b[1;33m,\u001b[0m\u001b[1;33m(\u001b[0m\u001b[1;34m'Monica'\u001b[0m\u001b[1;33m,\u001b[0m\u001b[1;36m37\u001b[0m\u001b[1;33m)\u001b[0m\u001b[1;33m,\u001b[0m\u001b[1;33m(\u001b[0m\u001b[1;34m'Luis'\u001b[0m\u001b[1;33m,\u001b[0m\u001b[1;36m32\u001b[0m\u001b[1;33m)\u001b[0m\u001b[1;33m,\u001b[0m\u001b[1;33m(\u001b[0m\u001b[1;34m'Gerardo'\u001b[0m\u001b[1;33m,\u001b[0m\u001b[1;36m46\u001b[0m\u001b[1;33m)\u001b[0m\u001b[1;33m,\u001b[0m\u001b[1;33m(\u001b[0m\u001b[1;34m'Mar'\u001b[0m\u001b[1;33m,\u001b[0m\u001b[1;36m38\u001b[0m\u001b[1;33m)\u001b[0m\u001b[1;33m)\u001b[0m\u001b[1;33m\u001b[0m\u001b[1;33m\u001b[0m\u001b[0m\n\u001b[1;32m----> 3\u001b[1;33m \u001b[0mmi_dataframe\u001b[0m\u001b[1;33m=\u001b[0m\u001b[0mpd\u001b[0m\u001b[1;33m.\u001b[0m\u001b[0mDataFrame\u001b[0m\u001b[1;33m(\u001b[0m\u001b[0mpersonas\u001b[0m\u001b[1;33m,\u001b[0m \u001b[0mcolumns\u001b[0m\u001b[1;33m=\u001b[0m\u001b[1;33m[\u001b[0m\u001b[1;34m'Nombre'\u001b[0m\u001b[1;33m,\u001b[0m\u001b[1;34m'Edad'\u001b[0m\u001b[1;33m]\u001b[0m\u001b[1;33m,\u001b[0m \u001b[0mdtypes\u001b[0m\u001b[1;33m=\u001b[0m\u001b[1;33m(\u001b[0m\u001b[0mobject\u001b[0m\u001b[1;33m,\u001b[0m\u001b[0mnp\u001b[0m\u001b[1;33m.\u001b[0m\u001b[0mfloat32\u001b[0m\u001b[1;33m)\u001b[0m\u001b[1;33m)\u001b[0m\u001b[1;33m\u001b[0m\u001b[1;33m\u001b[0m\u001b[0m\n\u001b[0m\u001b[0;32m      4\u001b[0m \u001b[0mprint\u001b[0m\u001b[1;33m(\u001b[0m\u001b[0mmi_dataframe\u001b[0m\u001b[1;33m)\u001b[0m\u001b[1;33m\u001b[0m\u001b[1;33m\u001b[0m\u001b[0m\n",
      "\u001b[1;31mTypeError\u001b[0m: __init__() got an unexpected keyword argument 'dtypes'"
     ]
    }
   ],
   "source": [
    "import numpy as np\n",
    "personas=(('Ivan',42),('Monica',37),('Luis',32),('Gerardo',46),('Mar',38))\n",
    "mi_dataframe=pd.DataFrame(personas, columns=['Nombre','Edad'])\n",
    "print(mi_dataframe)"
   ]
  },
  {
   "cell_type": "code",
   "execution_count": 33,
   "metadata": {},
   "outputs": [
    {
     "data": {
      "text/html": [
       "<div>\n",
       "<style scoped>\n",
       "    .dataframe tbody tr th:only-of-type {\n",
       "        vertical-align: middle;\n",
       "    }\n",
       "\n",
       "    .dataframe tbody tr th {\n",
       "        vertical-align: top;\n",
       "    }\n",
       "\n",
       "    .dataframe thead th {\n",
       "        text-align: right;\n",
       "    }\n",
       "</style>\n",
       "<table border=\"1\" class=\"dataframe\">\n",
       "  <thead>\n",
       "    <tr style=\"text-align: right;\">\n",
       "      <th></th>\n",
       "      <th>Nombre</th>\n",
       "      <th>Edad</th>\n",
       "    </tr>\n",
       "  </thead>\n",
       "  <tbody>\n",
       "    <tr>\n",
       "      <th>0</th>\n",
       "      <td>Ivan</td>\n",
       "      <td>42.0</td>\n",
       "    </tr>\n",
       "    <tr>\n",
       "      <th>1</th>\n",
       "      <td>Monica</td>\n",
       "      <td>37.0</td>\n",
       "    </tr>\n",
       "    <tr>\n",
       "      <th>2</th>\n",
       "      <td>Luis</td>\n",
       "      <td>32.0</td>\n",
       "    </tr>\n",
       "    <tr>\n",
       "      <th>3</th>\n",
       "      <td>Gerardo</td>\n",
       "      <td>46.0</td>\n",
       "    </tr>\n",
       "    <tr>\n",
       "      <th>4</th>\n",
       "      <td>Mar</td>\n",
       "      <td>38.0</td>\n",
       "    </tr>\n",
       "  </tbody>\n",
       "</table>\n",
       "</div>"
      ],
      "text/plain": [
       "    Nombre  Edad\n",
       "0     Ivan  42.0\n",
       "1   Monica  37.0\n",
       "2     Luis  32.0\n",
       "3  Gerardo  46.0\n",
       "4      Mar  38.0"
      ]
     },
     "execution_count": 33,
     "metadata": {},
     "output_type": "execute_result"
    }
   ],
   "source": [
    "mi_dataframe"
   ]
  },
  {
   "cell_type": "code",
   "execution_count": 42,
   "metadata": {},
   "outputs": [],
   "source": [
    "mi_dataframe.index=mi_dataframe['Nombre']"
   ]
  },
  {
   "cell_type": "code",
   "execution_count": 43,
   "metadata": {},
   "outputs": [
    {
     "data": {
      "text/html": [
       "<div>\n",
       "<style scoped>\n",
       "    .dataframe tbody tr th:only-of-type {\n",
       "        vertical-align: middle;\n",
       "    }\n",
       "\n",
       "    .dataframe tbody tr th {\n",
       "        vertical-align: top;\n",
       "    }\n",
       "\n",
       "    .dataframe thead th {\n",
       "        text-align: right;\n",
       "    }\n",
       "</style>\n",
       "<table border=\"1\" class=\"dataframe\">\n",
       "  <thead>\n",
       "    <tr style=\"text-align: right;\">\n",
       "      <th></th>\n",
       "      <th>Nombre</th>\n",
       "      <th>Edad</th>\n",
       "    </tr>\n",
       "    <tr>\n",
       "      <th>Nombre</th>\n",
       "      <th></th>\n",
       "      <th></th>\n",
       "    </tr>\n",
       "  </thead>\n",
       "  <tbody>\n",
       "    <tr>\n",
       "      <th>Ivan</th>\n",
       "      <td>Ivan</td>\n",
       "      <td>42.0</td>\n",
       "    </tr>\n",
       "    <tr>\n",
       "      <th>Monica</th>\n",
       "      <td>Monica</td>\n",
       "      <td>37.0</td>\n",
       "    </tr>\n",
       "    <tr>\n",
       "      <th>Luis</th>\n",
       "      <td>Luis</td>\n",
       "      <td>32.0</td>\n",
       "    </tr>\n",
       "    <tr>\n",
       "      <th>Gerardo</th>\n",
       "      <td>Gerardo</td>\n",
       "      <td>46.0</td>\n",
       "    </tr>\n",
       "    <tr>\n",
       "      <th>Mar</th>\n",
       "      <td>Mar</td>\n",
       "      <td>38.0</td>\n",
       "    </tr>\n",
       "  </tbody>\n",
       "</table>\n",
       "</div>"
      ],
      "text/plain": [
       "          Nombre  Edad\n",
       "Nombre                \n",
       "Ivan        Ivan  42.0\n",
       "Monica    Monica  37.0\n",
       "Luis        Luis  32.0\n",
       "Gerardo  Gerardo  46.0\n",
       "Mar          Mar  38.0"
      ]
     },
     "execution_count": 43,
     "metadata": {},
     "output_type": "execute_result"
    }
   ],
   "source": [
    "mi_dataframe"
   ]
  },
  {
   "cell_type": "code",
   "execution_count": 46,
   "metadata": {},
   "outputs": [
    {
     "data": {
      "text/plain": [
       "Nombre    Gerardo\n",
       "Edad           46\n",
       "Name: Gerardo, dtype: object"
      ]
     },
     "execution_count": 46,
     "metadata": {},
     "output_type": "execute_result"
    }
   ],
   "source": [
    "mi_dataframe.iloc[3]"
   ]
  },
  {
   "cell_type": "code",
   "execution_count": 47,
   "metadata": {},
   "outputs": [
    {
     "data": {
      "text/plain": [
       "Nombre    Luis\n",
       "Edad        32\n",
       "Name: Luis, dtype: object"
      ]
     },
     "execution_count": 47,
     "metadata": {},
     "output_type": "execute_result"
    }
   ],
   "source": [
    "mi_dataframe.loc['Luis']"
   ]
  },
  {
   "cell_type": "code",
   "execution_count": 49,
   "metadata": {},
   "outputs": [
    {
     "name": "stdout",
     "output_type": "stream",
     "text": [
      "    nombre  edad\n",
      "0     Ivan    10\n",
      "1   Monica    11\n",
      "2     Luis    12\n",
      "3  Gerardo    13\n",
      "4      Mar    14\n"
     ]
    }
   ],
   "source": [
    "personas={'nombre': ('Ivan','Monica','Luis','Gerardo','Mar'), 'edad': (10,11,12,13,14)}\n",
    "mi_dataframe=pd.DataFrame(personas)\n",
    "print(mi_dataframe)"
   ]
  },
  {
   "cell_type": "markdown",
   "metadata": {},
   "source": [
    "# Tamaños"
   ]
  },
  {
   "cell_type": "code",
   "execution_count": 50,
   "metadata": {},
   "outputs": [
    {
     "data": {
      "text/plain": [
       "2"
      ]
     },
     "execution_count": 50,
     "metadata": {},
     "output_type": "execute_result"
    }
   ],
   "source": [
    "mi_dataframe.ndim"
   ]
  },
  {
   "cell_type": "code",
   "execution_count": 51,
   "metadata": {},
   "outputs": [
    {
     "data": {
      "text/plain": [
       "(5, 2)"
      ]
     },
     "execution_count": 51,
     "metadata": {},
     "output_type": "execute_result"
    }
   ],
   "source": [
    "mi_dataframe.shape"
   ]
  },
  {
   "cell_type": "code",
   "execution_count": 52,
   "metadata": {},
   "outputs": [
    {
     "data": {
      "text/plain": [
       "10"
      ]
     },
     "execution_count": 52,
     "metadata": {},
     "output_type": "execute_result"
    }
   ],
   "source": [
    "mi_dataframe.size"
   ]
  },
  {
   "cell_type": "code",
   "execution_count": 53,
   "metadata": {},
   "outputs": [
    {
     "data": {
      "text/html": [
       "<div>\n",
       "<style scoped>\n",
       "    .dataframe tbody tr th:only-of-type {\n",
       "        vertical-align: middle;\n",
       "    }\n",
       "\n",
       "    .dataframe tbody tr th {\n",
       "        vertical-align: top;\n",
       "    }\n",
       "\n",
       "    .dataframe thead th {\n",
       "        text-align: right;\n",
       "    }\n",
       "</style>\n",
       "<table border=\"1\" class=\"dataframe\">\n",
       "  <thead>\n",
       "    <tr style=\"text-align: right;\">\n",
       "      <th></th>\n",
       "      <th>nombre</th>\n",
       "      <th>edad</th>\n",
       "    </tr>\n",
       "  </thead>\n",
       "  <tbody>\n",
       "    <tr>\n",
       "      <th>0</th>\n",
       "      <td>Ivan</td>\n",
       "      <td>10</td>\n",
       "    </tr>\n",
       "    <tr>\n",
       "      <th>1</th>\n",
       "      <td>Monica</td>\n",
       "      <td>11</td>\n",
       "    </tr>\n",
       "    <tr>\n",
       "      <th>2</th>\n",
       "      <td>Luis</td>\n",
       "      <td>12</td>\n",
       "    </tr>\n",
       "    <tr>\n",
       "      <th>3</th>\n",
       "      <td>Gerardo</td>\n",
       "      <td>13</td>\n",
       "    </tr>\n",
       "    <tr>\n",
       "      <th>4</th>\n",
       "      <td>Mar</td>\n",
       "      <td>14</td>\n",
       "    </tr>\n",
       "  </tbody>\n",
       "</table>\n",
       "</div>"
      ],
      "text/plain": [
       "    nombre  edad\n",
       "0     Ivan    10\n",
       "1   Monica    11\n",
       "2     Luis    12\n",
       "3  Gerardo    13\n",
       "4      Mar    14"
      ]
     },
     "execution_count": 53,
     "metadata": {},
     "output_type": "execute_result"
    }
   ],
   "source": [
    "mi_dataframe.head() # Cabeza... los primeros valores"
   ]
  },
  {
   "cell_type": "code",
   "execution_count": 54,
   "metadata": {},
   "outputs": [
    {
     "data": {
      "text/html": [
       "<div>\n",
       "<style scoped>\n",
       "    .dataframe tbody tr th:only-of-type {\n",
       "        vertical-align: middle;\n",
       "    }\n",
       "\n",
       "    .dataframe tbody tr th {\n",
       "        vertical-align: top;\n",
       "    }\n",
       "\n",
       "    .dataframe thead th {\n",
       "        text-align: right;\n",
       "    }\n",
       "</style>\n",
       "<table border=\"1\" class=\"dataframe\">\n",
       "  <thead>\n",
       "    <tr style=\"text-align: right;\">\n",
       "      <th></th>\n",
       "      <th>nombre</th>\n",
       "      <th>edad</th>\n",
       "    </tr>\n",
       "  </thead>\n",
       "  <tbody>\n",
       "    <tr>\n",
       "      <th>0</th>\n",
       "      <td>Ivan</td>\n",
       "      <td>10</td>\n",
       "    </tr>\n",
       "    <tr>\n",
       "      <th>1</th>\n",
       "      <td>Monica</td>\n",
       "      <td>11</td>\n",
       "    </tr>\n",
       "    <tr>\n",
       "      <th>2</th>\n",
       "      <td>Luis</td>\n",
       "      <td>12</td>\n",
       "    </tr>\n",
       "    <tr>\n",
       "      <th>3</th>\n",
       "      <td>Gerardo</td>\n",
       "      <td>13</td>\n",
       "    </tr>\n",
       "    <tr>\n",
       "      <th>4</th>\n",
       "      <td>Mar</td>\n",
       "      <td>14</td>\n",
       "    </tr>\n",
       "  </tbody>\n",
       "</table>\n",
       "</div>"
      ],
      "text/plain": [
       "    nombre  edad\n",
       "0     Ivan    10\n",
       "1   Monica    11\n",
       "2     Luis    12\n",
       "3  Gerardo    13\n",
       "4      Mar    14"
      ]
     },
     "execution_count": 54,
     "metadata": {},
     "output_type": "execute_result"
    }
   ],
   "source": [
    "mi_dataframe.tail() # cola... los ultimos valores"
   ]
  },
  {
   "cell_type": "markdown",
   "metadata": {},
   "source": [
    "# Iterar sobre los valores\n"
   ]
  },
  {
   "cell_type": "code",
   "execution_count": 55,
   "metadata": {},
   "outputs": [
    {
     "data": {
      "text/plain": [
       "0    10\n",
       "1    11\n",
       "2    12\n",
       "3    13\n",
       "4    14\n",
       "Name: edad, dtype: int64"
      ]
     },
     "execution_count": 55,
     "metadata": {},
     "output_type": "execute_result"
    }
   ],
   "source": [
    "# Como saco las edades\n",
    "mi_dataframe['edad']"
   ]
  },
  {
   "cell_type": "code",
   "execution_count": 56,
   "metadata": {},
   "outputs": [
    {
     "data": {
      "text/plain": [
       "nombre    Gerardo\n",
       "edad           13\n",
       "Name: 3, dtype: object"
      ]
     },
     "execution_count": 56,
     "metadata": {},
     "output_type": "execute_result"
    }
   ],
   "source": [
    "# Como saco los datos de la fila 3\n",
    "mi_dataframe.loc[3]"
   ]
  },
  {
   "cell_type": "code",
   "execution_count": 59,
   "metadata": {},
   "outputs": [
    {
     "data": {
      "text/html": [
       "<div>\n",
       "<style scoped>\n",
       "    .dataframe tbody tr th:only-of-type {\n",
       "        vertical-align: middle;\n",
       "    }\n",
       "\n",
       "    .dataframe tbody tr th {\n",
       "        vertical-align: top;\n",
       "    }\n",
       "\n",
       "    .dataframe thead th {\n",
       "        text-align: right;\n",
       "    }\n",
       "</style>\n",
       "<table border=\"1\" class=\"dataframe\">\n",
       "  <thead>\n",
       "    <tr style=\"text-align: right;\">\n",
       "      <th></th>\n",
       "      <th>nombre</th>\n",
       "      <th>edad</th>\n",
       "    </tr>\n",
       "  </thead>\n",
       "  <tbody>\n",
       "    <tr>\n",
       "      <th>0</th>\n",
       "      <td>Ivan</td>\n",
       "      <td>10</td>\n",
       "    </tr>\n",
       "    <tr>\n",
       "      <th>1</th>\n",
       "      <td>Monica</td>\n",
       "      <td>11</td>\n",
       "    </tr>\n",
       "    <tr>\n",
       "      <th>2</th>\n",
       "      <td>Luis</td>\n",
       "      <td>12</td>\n",
       "    </tr>\n",
       "    <tr>\n",
       "      <th>3</th>\n",
       "      <td>Gerardo</td>\n",
       "      <td>13</td>\n",
       "    </tr>\n",
       "    <tr>\n",
       "      <th>4</th>\n",
       "      <td>Mar</td>\n",
       "      <td>14</td>\n",
       "    </tr>\n",
       "  </tbody>\n",
       "</table>\n",
       "</div>"
      ],
      "text/plain": [
       "    nombre  edad\n",
       "0     Ivan    10\n",
       "1   Monica    11\n",
       "2     Luis    12\n",
       "3  Gerardo    13\n",
       "4      Mar    14"
      ]
     },
     "execution_count": 59,
     "metadata": {},
     "output_type": "execute_result"
    }
   ],
   "source": [
    "mi_dataframe"
   ]
  },
  {
   "cell_type": "code",
   "execution_count": 61,
   "metadata": {},
   "outputs": [
    {
     "data": {
      "text/plain": [
       "12"
      ]
     },
     "execution_count": 61,
     "metadata": {},
     "output_type": "execute_result"
    }
   ],
   "source": [
    "# Edad de Luis\n",
    "mi_dataframe.loc[2]['edad'] # Primero he buscado a Luis, y luego saco su edad"
   ]
  },
  {
   "cell_type": "code",
   "execution_count": 63,
   "metadata": {},
   "outputs": [
    {
     "data": {
      "text/plain": [
       "12"
      ]
     },
     "execution_count": 63,
     "metadata": {},
     "output_type": "execute_result"
    }
   ],
   "source": [
    "# Primero saco las edades, y me quedo solo con la de luis\n",
    "mi_dataframe['edad'][2]"
   ]
  },
  {
   "cell_type": "code",
   "execution_count": 64,
   "metadata": {
    "scrolled": true
   },
   "outputs": [
    {
     "name": "stdout",
     "output_type": "stream",
     "text": [
      "Ivan\n",
      "Monica\n",
      "Luis\n",
      "Gerardo\n",
      "Mar\n",
      "10\n",
      "11\n",
      "12\n",
      "13\n",
      "14\n"
     ]
    }
   ],
   "source": [
    "for columna in mi_dataframe.columns:\n",
    "    for fila in mi_dataframe.index:\n",
    "        print( mi_dataframe[columna][fila] )"
   ]
  },
  {
   "cell_type": "markdown",
   "metadata": {},
   "source": [
    "# Carga de un fichero Excel"
   ]
  },
  {
   "cell_type": "code",
   "execution_count": 6,
   "metadata": {},
   "outputs": [],
   "source": [
    "incendios=pd.read_csv(r'.\\California_Fire_Incidents.csv')"
   ]
  },
  {
   "cell_type": "code",
   "execution_count": 7,
   "metadata": {},
   "outputs": [
    {
     "data": {
      "text/plain": [
       "(1636, 40)"
      ]
     },
     "execution_count": 7,
     "metadata": {},
     "output_type": "execute_result"
    }
   ],
   "source": [
    "incendios.shape"
   ]
  },
  {
   "cell_type": "code",
   "execution_count": 9,
   "metadata": {},
   "outputs": [
    {
     "data": {
      "text/plain": [
       "Index(['AcresBurned', 'Active', 'AdminUnit', 'AirTankers', 'ArchiveYear',\n",
       "       'CalFireIncident', 'CanonicalUrl', 'ConditionStatement',\n",
       "       'ControlStatement', 'Counties', 'CountyIds', 'CrewsInvolved', 'Dozers',\n",
       "       'Engines', 'Extinguished', 'Fatalities', 'Featured', 'Final',\n",
       "       'FuelType', 'Helicopters', 'Injuries', 'Latitude', 'Location',\n",
       "       'Longitude', 'MajorIncident', 'Name', 'PercentContained',\n",
       "       'PersonnelInvolved', 'Public', 'SearchDescription', 'SearchKeywords',\n",
       "       'Started', 'Status', 'StructuresDamaged', 'StructuresDestroyed',\n",
       "       'StructuresEvacuated', 'StructuresThreatened', 'UniqueId', 'Updated',\n",
       "       'WaterTenders'],\n",
       "      dtype='object')"
      ]
     },
     "execution_count": 9,
     "metadata": {},
     "output_type": "execute_result"
    }
   ],
   "source": [
    "incendios.columns"
   ]
  },
  {
   "cell_type": "code",
   "execution_count": 13,
   "metadata": {},
   "outputs": [
    {
     "name": "stdout",
     "output_type": "stream",
     "text": [
      "AcresBurned float64\n",
      "Active bool\n",
      "AdminUnit object\n",
      "AirTankers float64\n",
      "ArchiveYear int64\n",
      "CalFireIncident bool\n",
      "CanonicalUrl object\n",
      "ConditionStatement object\n",
      "ControlStatement object\n",
      "Counties object\n",
      "CountyIds object\n",
      "CrewsInvolved float64\n",
      "Dozers float64\n",
      "Engines float64\n",
      "Extinguished object\n",
      "Fatalities float64\n",
      "Featured bool\n",
      "Final bool\n",
      "FuelType object\n",
      "Helicopters float64\n",
      "Injuries float64\n",
      "Latitude float64\n",
      "Location object\n",
      "Longitude float64\n",
      "MajorIncident bool\n",
      "Name object\n",
      "PercentContained float64\n",
      "PersonnelInvolved float64\n",
      "Public bool\n",
      "SearchDescription object\n",
      "SearchKeywords object\n",
      "Started object\n",
      "Status object\n",
      "StructuresDamaged float64\n",
      "StructuresDestroyed float64\n",
      "StructuresEvacuated float64\n",
      "StructuresThreatened float64\n",
      "UniqueId object\n",
      "Updated object\n",
      "WaterTenders float64\n"
     ]
    }
   ],
   "source": [
    "for columna in incendios.columns:\n",
    "    print (columna+' ' +str(incendios[columna].dtype))"
   ]
  },
  {
   "cell_type": "code",
   "execution_count": 16,
   "metadata": {},
   "outputs": [
    {
     "data": {
      "text/html": [
       "<div>\n",
       "<style scoped>\n",
       "    .dataframe tbody tr th:only-of-type {\n",
       "        vertical-align: middle;\n",
       "    }\n",
       "\n",
       "    .dataframe tbody tr th {\n",
       "        vertical-align: top;\n",
       "    }\n",
       "\n",
       "    .dataframe thead th {\n",
       "        text-align: right;\n",
       "    }\n",
       "</style>\n",
       "<table border=\"1\" class=\"dataframe\">\n",
       "  <thead>\n",
       "    <tr style=\"text-align: right;\">\n",
       "      <th></th>\n",
       "      <th>AcresBurned</th>\n",
       "      <th>Active</th>\n",
       "      <th>AdminUnit</th>\n",
       "      <th>AirTankers</th>\n",
       "      <th>ArchiveYear</th>\n",
       "      <th>CalFireIncident</th>\n",
       "      <th>CanonicalUrl</th>\n",
       "      <th>ConditionStatement</th>\n",
       "      <th>ControlStatement</th>\n",
       "      <th>Counties</th>\n",
       "      <th>...</th>\n",
       "      <th>SearchKeywords</th>\n",
       "      <th>Started</th>\n",
       "      <th>Status</th>\n",
       "      <th>StructuresDamaged</th>\n",
       "      <th>StructuresDestroyed</th>\n",
       "      <th>StructuresEvacuated</th>\n",
       "      <th>StructuresThreatened</th>\n",
       "      <th>UniqueId</th>\n",
       "      <th>Updated</th>\n",
       "      <th>WaterTenders</th>\n",
       "    </tr>\n",
       "  </thead>\n",
       "  <tbody>\n",
       "    <tr>\n",
       "      <th>1631</th>\n",
       "      <td>9.0</td>\n",
       "      <td>False</td>\n",
       "      <td>CAL FIRE / Riverside County Fire</td>\n",
       "      <td>NaN</td>\n",
       "      <td>2019</td>\n",
       "      <td>True</td>\n",
       "      <td>/incidents/2019/10/10/eagle-fire/</td>\n",
       "      <td>NaN</td>\n",
       "      <td>NaN</td>\n",
       "      <td>Riverside</td>\n",
       "      <td>...</td>\n",
       "      <td>NaN</td>\n",
       "      <td>2019-10-10T12:08:00Z</td>\n",
       "      <td>Finalized</td>\n",
       "      <td>NaN</td>\n",
       "      <td>NaN</td>\n",
       "      <td>NaN</td>\n",
       "      <td>NaN</td>\n",
       "      <td>6e93b252-99a3-4214-9921-238373b17535</td>\n",
       "      <td>2019-10-10T18:11:59.733Z</td>\n",
       "      <td>NaN</td>\n",
       "    </tr>\n",
       "    <tr>\n",
       "      <th>1632</th>\n",
       "      <td>2.0</td>\n",
       "      <td>False</td>\n",
       "      <td>CAL FIRE Nevada-Yuba-Placer Unit</td>\n",
       "      <td>NaN</td>\n",
       "      <td>2019</td>\n",
       "      <td>True</td>\n",
       "      <td>/incidents/2019/6/28/long-fire/</td>\n",
       "      <td>NaN</td>\n",
       "      <td>NaN</td>\n",
       "      <td>Nevada</td>\n",
       "      <td>...</td>\n",
       "      <td>NaN</td>\n",
       "      <td>2019-06-28T15:03:04Z</td>\n",
       "      <td>Finalized</td>\n",
       "      <td>NaN</td>\n",
       "      <td>NaN</td>\n",
       "      <td>NaN</td>\n",
       "      <td>NaN</td>\n",
       "      <td>b38c0563-b321-431b-9174-6336c5a0d449</td>\n",
       "      <td>2019-06-30T15:52:01.023Z</td>\n",
       "      <td>NaN</td>\n",
       "    </tr>\n",
       "    <tr>\n",
       "      <th>1633</th>\n",
       "      <td>NaN</td>\n",
       "      <td>False</td>\n",
       "      <td>Yolo County Fire Protection District</td>\n",
       "      <td>NaN</td>\n",
       "      <td>2019</td>\n",
       "      <td>False</td>\n",
       "      <td>/incidents/2019/11/25/cashe-fire/</td>\n",
       "      <td>NaN</td>\n",
       "      <td>NaN</td>\n",
       "      <td>Yolo</td>\n",
       "      <td>...</td>\n",
       "      <td>NaN</td>\n",
       "      <td>2019-11-25T12:02:02Z</td>\n",
       "      <td>Finalized</td>\n",
       "      <td>NaN</td>\n",
       "      <td>NaN</td>\n",
       "      <td>NaN</td>\n",
       "      <td>NaN</td>\n",
       "      <td>9c26f915-1b33-422d-b30a-9eb4da6fd729</td>\n",
       "      <td>2019-12-03T16:35:20.93Z</td>\n",
       "      <td>NaN</td>\n",
       "    </tr>\n",
       "    <tr>\n",
       "      <th>1634</th>\n",
       "      <td>NaN</td>\n",
       "      <td>False</td>\n",
       "      <td>Camp Pendleton Marine Corps Base</td>\n",
       "      <td>NaN</td>\n",
       "      <td>2019</td>\n",
       "      <td>False</td>\n",
       "      <td>/incidents/2019/10/22/oak-fire/</td>\n",
       "      <td>NaN</td>\n",
       "      <td>NaN</td>\n",
       "      <td>San Diego</td>\n",
       "      <td>...</td>\n",
       "      <td>NaN</td>\n",
       "      <td>2019-10-22T19:20:44Z</td>\n",
       "      <td>Finalized</td>\n",
       "      <td>NaN</td>\n",
       "      <td>NaN</td>\n",
       "      <td>NaN</td>\n",
       "      <td>NaN</td>\n",
       "      <td>7264a106-e0f4-41de-8fd0-3f9110431e28</td>\n",
       "      <td>2019-11-21T12:21:28.58Z</td>\n",
       "      <td>NaN</td>\n",
       "    </tr>\n",
       "    <tr>\n",
       "      <th>1635</th>\n",
       "      <td>NaN</td>\n",
       "      <td>False</td>\n",
       "      <td>Bureau of Indian Affairs</td>\n",
       "      <td>NaN</td>\n",
       "      <td>2019</td>\n",
       "      <td>False</td>\n",
       "      <td>/incidents/2019/10/14/johnson-fire/</td>\n",
       "      <td>As of 10:00 p.m. on 10/16, the fire is 90% con...</td>\n",
       "      <td>NaN</td>\n",
       "      <td>Riverside</td>\n",
       "      <td>...</td>\n",
       "      <td>NaN</td>\n",
       "      <td>2019-10-14T15:32:20Z</td>\n",
       "      <td>Inactive</td>\n",
       "      <td>NaN</td>\n",
       "      <td>NaN</td>\n",
       "      <td>NaN</td>\n",
       "      <td>NaN</td>\n",
       "      <td>8bf75401-999f-42bd-8c0a-8db508591545</td>\n",
       "      <td>2019-10-30T10:14:19.58Z</td>\n",
       "      <td>NaN</td>\n",
       "    </tr>\n",
       "  </tbody>\n",
       "</table>\n",
       "<p>5 rows × 40 columns</p>\n",
       "</div>"
      ],
      "text/plain": [
       "      AcresBurned  Active                             AdminUnit  AirTankers  \\\n",
       "1631          9.0   False      CAL FIRE / Riverside County Fire         NaN   \n",
       "1632          2.0   False     CAL FIRE Nevada-Yuba-Placer Unit          NaN   \n",
       "1633          NaN   False  Yolo County Fire Protection District         NaN   \n",
       "1634          NaN   False      Camp Pendleton Marine Corps Base         NaN   \n",
       "1635          NaN   False              Bureau of Indian Affairs         NaN   \n",
       "\n",
       "      ArchiveYear  CalFireIncident                         CanonicalUrl  \\\n",
       "1631         2019             True    /incidents/2019/10/10/eagle-fire/   \n",
       "1632         2019             True      /incidents/2019/6/28/long-fire/   \n",
       "1633         2019            False    /incidents/2019/11/25/cashe-fire/   \n",
       "1634         2019            False      /incidents/2019/10/22/oak-fire/   \n",
       "1635         2019            False  /incidents/2019/10/14/johnson-fire/   \n",
       "\n",
       "                                     ConditionStatement ControlStatement  \\\n",
       "1631                                                NaN              NaN   \n",
       "1632                                                NaN              NaN   \n",
       "1633                                                NaN              NaN   \n",
       "1634                                                NaN              NaN   \n",
       "1635  As of 10:00 p.m. on 10/16, the fire is 90% con...              NaN   \n",
       "\n",
       "       Counties  ... SearchKeywords               Started     Status  \\\n",
       "1631  Riverside  ...            NaN  2019-10-10T12:08:00Z  Finalized   \n",
       "1632     Nevada  ...            NaN  2019-06-28T15:03:04Z  Finalized   \n",
       "1633       Yolo  ...            NaN  2019-11-25T12:02:02Z  Finalized   \n",
       "1634  San Diego  ...            NaN  2019-10-22T19:20:44Z  Finalized   \n",
       "1635  Riverside  ...            NaN  2019-10-14T15:32:20Z   Inactive   \n",
       "\n",
       "      StructuresDamaged StructuresDestroyed  StructuresEvacuated  \\\n",
       "1631                NaN                 NaN                  NaN   \n",
       "1632                NaN                 NaN                  NaN   \n",
       "1633                NaN                 NaN                  NaN   \n",
       "1634                NaN                 NaN                  NaN   \n",
       "1635                NaN                 NaN                  NaN   \n",
       "\n",
       "      StructuresThreatened                              UniqueId  \\\n",
       "1631                   NaN  6e93b252-99a3-4214-9921-238373b17535   \n",
       "1632                   NaN  b38c0563-b321-431b-9174-6336c5a0d449   \n",
       "1633                   NaN  9c26f915-1b33-422d-b30a-9eb4da6fd729   \n",
       "1634                   NaN  7264a106-e0f4-41de-8fd0-3f9110431e28   \n",
       "1635                   NaN  8bf75401-999f-42bd-8c0a-8db508591545   \n",
       "\n",
       "                       Updated  WaterTenders  \n",
       "1631  2019-10-10T18:11:59.733Z           NaN  \n",
       "1632  2019-06-30T15:52:01.023Z           NaN  \n",
       "1633   2019-12-03T16:35:20.93Z           NaN  \n",
       "1634   2019-11-21T12:21:28.58Z           NaN  \n",
       "1635   2019-10-30T10:14:19.58Z           NaN  \n",
       "\n",
       "[5 rows x 40 columns]"
      ]
     },
     "execution_count": 16,
     "metadata": {},
     "output_type": "execute_result"
    }
   ],
   "source": [
    "incendios.tail()"
   ]
  },
  {
   "cell_type": "code",
   "execution_count": 17,
   "metadata": {},
   "outputs": [
    {
     "data": {
      "text/html": [
       "<div>\n",
       "<style scoped>\n",
       "    .dataframe tbody tr th:only-of-type {\n",
       "        vertical-align: middle;\n",
       "    }\n",
       "\n",
       "    .dataframe tbody tr th {\n",
       "        vertical-align: top;\n",
       "    }\n",
       "\n",
       "    .dataframe thead th {\n",
       "        text-align: right;\n",
       "    }\n",
       "</style>\n",
       "<table border=\"1\" class=\"dataframe\">\n",
       "  <thead>\n",
       "    <tr style=\"text-align: right;\">\n",
       "      <th></th>\n",
       "      <th>AcresBurned</th>\n",
       "      <th>AirTankers</th>\n",
       "      <th>ArchiveYear</th>\n",
       "      <th>CrewsInvolved</th>\n",
       "      <th>Dozers</th>\n",
       "      <th>Engines</th>\n",
       "      <th>Fatalities</th>\n",
       "      <th>Helicopters</th>\n",
       "      <th>Injuries</th>\n",
       "      <th>Latitude</th>\n",
       "      <th>Longitude</th>\n",
       "      <th>PercentContained</th>\n",
       "      <th>PersonnelInvolved</th>\n",
       "      <th>StructuresDamaged</th>\n",
       "      <th>StructuresDestroyed</th>\n",
       "      <th>StructuresEvacuated</th>\n",
       "      <th>StructuresThreatened</th>\n",
       "      <th>WaterTenders</th>\n",
       "    </tr>\n",
       "  </thead>\n",
       "  <tbody>\n",
       "    <tr>\n",
       "      <th>count</th>\n",
       "      <td>1633.000000</td>\n",
       "      <td>28.000000</td>\n",
       "      <td>1636.000000</td>\n",
       "      <td>171.000000</td>\n",
       "      <td>123.000000</td>\n",
       "      <td>191.000000</td>\n",
       "      <td>21.000000</td>\n",
       "      <td>84.000000</td>\n",
       "      <td>120.000000</td>\n",
       "      <td>1636.000000</td>\n",
       "      <td>1636.000000</td>\n",
       "      <td>1633.0</td>\n",
       "      <td>204.000000</td>\n",
       "      <td>67.000000</td>\n",
       "      <td>175.000000</td>\n",
       "      <td>0.0</td>\n",
       "      <td>30.000000</td>\n",
       "      <td>146.000000</td>\n",
       "    </tr>\n",
       "    <tr>\n",
       "      <th>mean</th>\n",
       "      <td>4589.443968</td>\n",
       "      <td>4.071429</td>\n",
       "      <td>2016.608802</td>\n",
       "      <td>11.561404</td>\n",
       "      <td>7.585366</td>\n",
       "      <td>23.565445</td>\n",
       "      <td>8.619048</td>\n",
       "      <td>5.357143</td>\n",
       "      <td>3.500000</td>\n",
       "      <td>37.203975</td>\n",
       "      <td>-108.082642</td>\n",
       "      <td>100.0</td>\n",
       "      <td>328.553922</td>\n",
       "      <td>67.970149</td>\n",
       "      <td>271.788571</td>\n",
       "      <td>NaN</td>\n",
       "      <td>522.800000</td>\n",
       "      <td>7.815068</td>\n",
       "    </tr>\n",
       "    <tr>\n",
       "      <th>std</th>\n",
       "      <td>27266.337722</td>\n",
       "      <td>6.399818</td>\n",
       "      <td>1.845340</td>\n",
       "      <td>14.455633</td>\n",
       "      <td>14.028616</td>\n",
       "      <td>41.004424</td>\n",
       "      <td>18.529642</td>\n",
       "      <td>7.265437</td>\n",
       "      <td>3.806231</td>\n",
       "      <td>135.401380</td>\n",
       "      <td>37.006927</td>\n",
       "      <td>0.0</td>\n",
       "      <td>521.138789</td>\n",
       "      <td>155.771975</td>\n",
       "      <td>1557.255963</td>\n",
       "      <td>NaN</td>\n",
       "      <td>739.586856</td>\n",
       "      <td>12.719251</td>\n",
       "    </tr>\n",
       "    <tr>\n",
       "      <th>min</th>\n",
       "      <td>0.000000</td>\n",
       "      <td>0.000000</td>\n",
       "      <td>2013.000000</td>\n",
       "      <td>0.000000</td>\n",
       "      <td>0.000000</td>\n",
       "      <td>0.000000</td>\n",
       "      <td>1.000000</td>\n",
       "      <td>0.000000</td>\n",
       "      <td>0.000000</td>\n",
       "      <td>-120.258000</td>\n",
       "      <td>-124.196290</td>\n",
       "      <td>100.0</td>\n",
       "      <td>0.000000</td>\n",
       "      <td>0.000000</td>\n",
       "      <td>0.000000</td>\n",
       "      <td>NaN</td>\n",
       "      <td>0.000000</td>\n",
       "      <td>1.000000</td>\n",
       "    </tr>\n",
       "    <tr>\n",
       "      <th>25%</th>\n",
       "      <td>35.000000</td>\n",
       "      <td>2.000000</td>\n",
       "      <td>2015.000000</td>\n",
       "      <td>2.500000</td>\n",
       "      <td>1.000000</td>\n",
       "      <td>5.000000</td>\n",
       "      <td>1.000000</td>\n",
       "      <td>1.000000</td>\n",
       "      <td>1.000000</td>\n",
       "      <td>34.165890</td>\n",
       "      <td>-121.768358</td>\n",
       "      <td>100.0</td>\n",
       "      <td>55.000000</td>\n",
       "      <td>1.000000</td>\n",
       "      <td>1.000000</td>\n",
       "      <td>NaN</td>\n",
       "      <td>0.000000</td>\n",
       "      <td>2.000000</td>\n",
       "    </tr>\n",
       "    <tr>\n",
       "      <th>50%</th>\n",
       "      <td>100.000000</td>\n",
       "      <td>2.000000</td>\n",
       "      <td>2017.000000</td>\n",
       "      <td>6.000000</td>\n",
       "      <td>2.000000</td>\n",
       "      <td>11.000000</td>\n",
       "      <td>3.000000</td>\n",
       "      <td>2.000000</td>\n",
       "      <td>3.000000</td>\n",
       "      <td>37.104065</td>\n",
       "      <td>-120.461560</td>\n",
       "      <td>100.0</td>\n",
       "      <td>151.500000</td>\n",
       "      <td>6.000000</td>\n",
       "      <td>7.000000</td>\n",
       "      <td>NaN</td>\n",
       "      <td>45.000000</td>\n",
       "      <td>4.000000</td>\n",
       "    </tr>\n",
       "    <tr>\n",
       "      <th>75%</th>\n",
       "      <td>422.000000</td>\n",
       "      <td>4.000000</td>\n",
       "      <td>2018.000000</td>\n",
       "      <td>13.500000</td>\n",
       "      <td>5.000000</td>\n",
       "      <td>24.000000</td>\n",
       "      <td>6.000000</td>\n",
       "      <td>5.000000</td>\n",
       "      <td>4.000000</td>\n",
       "      <td>39.086808</td>\n",
       "      <td>-117.474072</td>\n",
       "      <td>100.0</td>\n",
       "      <td>350.000000</td>\n",
       "      <td>49.500000</td>\n",
       "      <td>41.500000</td>\n",
       "      <td>NaN</td>\n",
       "      <td>1043.750000</td>\n",
       "      <td>6.000000</td>\n",
       "    </tr>\n",
       "    <tr>\n",
       "      <th>max</th>\n",
       "      <td>410203.000000</td>\n",
       "      <td>27.000000</td>\n",
       "      <td>2019.000000</td>\n",
       "      <td>82.000000</td>\n",
       "      <td>76.000000</td>\n",
       "      <td>256.000000</td>\n",
       "      <td>85.000000</td>\n",
       "      <td>29.000000</td>\n",
       "      <td>26.000000</td>\n",
       "      <td>5487.000000</td>\n",
       "      <td>118.908200</td>\n",
       "      <td>100.0</td>\n",
       "      <td>3100.000000</td>\n",
       "      <td>783.000000</td>\n",
       "      <td>18804.000000</td>\n",
       "      <td>NaN</td>\n",
       "      <td>2600.000000</td>\n",
       "      <td>79.000000</td>\n",
       "    </tr>\n",
       "  </tbody>\n",
       "</table>\n",
       "</div>"
      ],
      "text/plain": [
       "         AcresBurned  AirTankers  ArchiveYear  CrewsInvolved      Dozers  \\\n",
       "count    1633.000000   28.000000  1636.000000     171.000000  123.000000   \n",
       "mean     4589.443968    4.071429  2016.608802      11.561404    7.585366   \n",
       "std     27266.337722    6.399818     1.845340      14.455633   14.028616   \n",
       "min         0.000000    0.000000  2013.000000       0.000000    0.000000   \n",
       "25%        35.000000    2.000000  2015.000000       2.500000    1.000000   \n",
       "50%       100.000000    2.000000  2017.000000       6.000000    2.000000   \n",
       "75%       422.000000    4.000000  2018.000000      13.500000    5.000000   \n",
       "max    410203.000000   27.000000  2019.000000      82.000000   76.000000   \n",
       "\n",
       "          Engines  Fatalities  Helicopters    Injuries     Latitude  \\\n",
       "count  191.000000   21.000000    84.000000  120.000000  1636.000000   \n",
       "mean    23.565445    8.619048     5.357143    3.500000    37.203975   \n",
       "std     41.004424   18.529642     7.265437    3.806231   135.401380   \n",
       "min      0.000000    1.000000     0.000000    0.000000  -120.258000   \n",
       "25%      5.000000    1.000000     1.000000    1.000000    34.165890   \n",
       "50%     11.000000    3.000000     2.000000    3.000000    37.104065   \n",
       "75%     24.000000    6.000000     5.000000    4.000000    39.086808   \n",
       "max    256.000000   85.000000    29.000000   26.000000  5487.000000   \n",
       "\n",
       "         Longitude  PercentContained  PersonnelInvolved  StructuresDamaged  \\\n",
       "count  1636.000000            1633.0         204.000000          67.000000   \n",
       "mean   -108.082642             100.0         328.553922          67.970149   \n",
       "std      37.006927               0.0         521.138789         155.771975   \n",
       "min    -124.196290             100.0           0.000000           0.000000   \n",
       "25%    -121.768358             100.0          55.000000           1.000000   \n",
       "50%    -120.461560             100.0         151.500000           6.000000   \n",
       "75%    -117.474072             100.0         350.000000          49.500000   \n",
       "max     118.908200             100.0        3100.000000         783.000000   \n",
       "\n",
       "       StructuresDestroyed  StructuresEvacuated  StructuresThreatened  \\\n",
       "count           175.000000                  0.0             30.000000   \n",
       "mean            271.788571                  NaN            522.800000   \n",
       "std            1557.255963                  NaN            739.586856   \n",
       "min               0.000000                  NaN              0.000000   \n",
       "25%               1.000000                  NaN              0.000000   \n",
       "50%               7.000000                  NaN             45.000000   \n",
       "75%              41.500000                  NaN           1043.750000   \n",
       "max           18804.000000                  NaN           2600.000000   \n",
       "\n",
       "       WaterTenders  \n",
       "count    146.000000  \n",
       "mean       7.815068  \n",
       "std       12.719251  \n",
       "min        1.000000  \n",
       "25%        2.000000  \n",
       "50%        4.000000  \n",
       "75%        6.000000  \n",
       "max       79.000000  "
      ]
     },
     "execution_count": 17,
     "metadata": {},
     "output_type": "execute_result"
    }
   ],
   "source": [
    "incendios.describe()"
   ]
  },
  {
   "cell_type": "code",
   "execution_count": 18,
   "metadata": {},
   "outputs": [
    {
     "data": {
      "text/plain": [
       "(1636, 40)"
      ]
     },
     "execution_count": 18,
     "metadata": {},
     "output_type": "execute_result"
    }
   ],
   "source": [
    "incendios.shape\n"
   ]
  },
  {
   "cell_type": "code",
   "execution_count": 21,
   "metadata": {},
   "outputs": [
    {
     "data": {
      "image/png": "[encoded data removed]",
      "text/plain": [
       "<Figure size 432x288 with 1 Axes>"
      ]
     },
     "metadata": {
      "needs_background": "light"
     },
     "output_type": "display_data"
    }
   ],
   "source": [
    "import matplotlib.pyplot as plot\n",
    "import seaborn\n",
    "seaborn.distplot(incendios['Latitude'])\n",
    "plot.show()"
   ]
  },
  {
   "cell_type": "code",
   "execution_count": 20,
   "metadata": {},
   "outputs": [
    {
     "data": {
      "text/plain": [
       "count      1633.000000\n",
       "mean       4589.443968\n",
       "std       27266.337722\n",
       "min           0.000000\n",
       "25%          35.000000\n",
       "50%         100.000000\n",
       "75%         422.000000\n",
       "max      410203.000000\n",
       "Name: AcresBurned, dtype: float64"
      ]
     },
     "execution_count": 20,
     "metadata": {},
     "output_type": "execute_result"
    }
   ],
   "source": [
    "incendios['AcresBurned'].describe()"
   ]
  },
  {
   "cell_type": "code",
   "execution_count": 22,
   "metadata": {},
   "outputs": [
    {
     "data": {
      "text/plain": [
       "count          1636\n",
       "unique           59\n",
       "top       Riverside\n",
       "freq            146\n",
       "Name: Counties, dtype: object"
      ]
     },
     "execution_count": 22,
     "metadata": {},
     "output_type": "execute_result"
    }
   ],
   "source": [
    "incendios['Counties'].describe()"
   ]
  },
  {
   "cell_type": "code",
   "execution_count": 23,
   "metadata": {},
   "outputs": [
    {
     "data": {
      "text/plain": [
       "array(['Tuolumne', 'Los Angeles', 'Riverside', 'Placer', 'Ventura',\n",
       "       'Fresno', 'Siskiyou', 'Humboldt', 'Tehama', 'Shasta', 'San Diego',\n",
       "       'Kern', 'Sonoma', 'Contra Costa', 'Butte', 'Tulare',\n",
       "       'Santa Barbara', 'Mariposa', 'Monterey', 'El Dorado',\n",
       "       'San Bernardino', 'Plumas', 'Modoc', 'San Luis Obispo', 'Madera',\n",
       "       'Inyo', 'Napa', 'San Benito', 'San Joaquin', 'Lake', 'Alameda',\n",
       "       'Glenn', 'Yolo', 'Sacramento', 'Stanislaus', 'Solano', 'Merced',\n",
       "       'Mendocino', 'Lassen', 'Amador', 'Yuba', 'Nevada', 'Santa Clara',\n",
       "       'Calaveras', 'San Mateo', 'Orange', 'Colusa', 'Trinity',\n",
       "       'Del Norte', 'Mono', 'Alpine', 'Sutter', 'Kings', 'Sierra',\n",
       "       'Santa Cruz', 'Marin', 'Mexico', 'State of Oregon',\n",
       "       'State of Nevada'], dtype=object)"
      ]
     },
     "execution_count": 23,
     "metadata": {},
     "output_type": "execute_result"
    }
   ],
   "source": [
    "incendios['Counties'].unique()"
   ]
  },
  {
   "cell_type": "code",
   "execution_count": 24,
   "metadata": {},
   "outputs": [
    {
     "data": {
      "text/plain": [
       "array(['Finalized', 'Inactive'], dtype=object)"
      ]
     },
     "execution_count": 24,
     "metadata": {},
     "output_type": "execute_result"
    }
   ],
   "source": [
    "incendios['Status'].unique()\n"
   ]
  },
  {
   "cell_type": "code",
   "execution_count": 25,
   "metadata": {},
   "outputs": [
    {
     "data": {
      "text/plain": [
       "0       False\n",
       "1       False\n",
       "2       False\n",
       "3       False\n",
       "4       False\n",
       "        ...  \n",
       "1631    False\n",
       "1632    False\n",
       "1633    False\n",
       "1634    False\n",
       "1635     True\n",
       "Name: Status, Length: 1636, dtype: bool"
      ]
     },
     "execution_count": 25,
     "metadata": {},
     "output_type": "execute_result"
    }
   ],
   "source": [
    "incendios['Status']=='Inactive'"
   ]
  },
  {
   "cell_type": "code",
   "execution_count": 31,
   "metadata": {},
   "outputs": [
    {
     "data": {
      "text/plain": [
       "(1634, 40)"
      ]
     },
     "execution_count": 31,
     "metadata": {},
     "output_type": "execute_result"
    }
   ],
   "source": [
    "incendios[incendios['Status']=='Finalized'].shape"
   ]
  },
  {
   "cell_type": "code",
   "execution_count": 33,
   "metadata": {},
   "outputs": [
    {
     "data": {
      "text/plain": [
       "Status\n",
       "Finalized    1634\n",
       "Inactive        2\n",
       "dtype: int64"
      ]
     },
     "execution_count": 33,
     "metadata": {},
     "output_type": "execute_result"
    }
   ],
   "source": [
    "incendios.groupby('Status').size()"
   ]
  },
  {
   "cell_type": "code",
   "execution_count": 36,
   "metadata": {},
   "outputs": [
    {
     "data": {
      "text/plain": [
       "Counties\n",
       "Alameda             32\n",
       "Alpine               2\n",
       "Amador              13\n",
       "Butte               66\n",
       "Calaveras           22\n",
       "Colusa               6\n",
       "Contra Costa        27\n",
       "Del Norte            6\n",
       "El Dorado           37\n",
       "Fresno              57\n",
       "Glenn                8\n",
       "Humboldt            25\n",
       "Inyo                12\n",
       "Kern                62\n",
       "Kings                5\n",
       "Lake                49\n",
       "Lassen              36\n",
       "Los Angeles         46\n",
       "Madera              36\n",
       "Marin                6\n",
       "Mariposa            35\n",
       "Mendocino           28\n",
       "Merced              16\n",
       "Mexico               2\n",
       "Modoc               31\n",
       "Mono                10\n",
       "Monterey            45\n",
       "Napa                25\n",
       "Nevada              17\n",
       "Orange              10\n",
       "Placer              17\n",
       "Plumas              11\n",
       "Riverside          146\n",
       "Sacramento          11\n",
       "San Benito          20\n",
       "San Bernardino      53\n",
       "San Diego           89\n",
       "San Joaquin          8\n",
       "San Luis Obispo     64\n",
       "San Mateo            3\n",
       "Santa Barbara       29\n",
       "Santa Clara         39\n",
       "Santa Cruz           4\n",
       "Shasta              64\n",
       "Sierra               2\n",
       "Siskiyou            57\n",
       "Solano              19\n",
       "Sonoma              18\n",
       "Stanislaus          20\n",
       "State of Nevada      1\n",
       "State of Oregon      1\n",
       "Sutter               3\n",
       "Tehama              51\n",
       "Trinity             21\n",
       "Tulare              35\n",
       "Tuolumne            22\n",
       "Ventura             30\n",
       "Yolo                12\n",
       "Yuba                14\n",
       "dtype: int64"
      ]
     },
     "execution_count": 36,
     "metadata": {},
     "output_type": "execute_result"
    }
   ],
   "source": [
    "incendios_por_county=incendios.groupby('Counties').size()\n",
    "incendios_por_county"
   ]
  },
  {
   "cell_type": "code",
   "execution_count": 40,
   "metadata": {},
   "outputs": [
    {
     "data": {
      "text/plain": [
       "([0,\n",
       "  1,\n",
       "  2,\n",
       "  3,\n",
       "  4,\n",
       "  5,\n",
       "  6,\n",
       "  7,\n",
       "  8,\n",
       "  9,\n",
       "  10,\n",
       "  11,\n",
       "  12,\n",
       "  13,\n",
       "  14,\n",
       "  15,\n",
       "  16,\n",
       "  17,\n",
       "  18,\n",
       "  19,\n",
       "  20,\n",
       "  21,\n",
       "  22,\n",
       "  23,\n",
       "  24,\n",
       "  25,\n",
       "  26,\n",
       "  27,\n",
       "  28,\n",
       "  29,\n",
       "  30,\n",
       "  31,\n",
       "  32,\n",
       "  33,\n",
       "  34,\n",
       "  35,\n",
       "  36,\n",
       "  37,\n",
       "  38,\n",
       "  39,\n",
       "  40,\n",
       "  41,\n",
       "  42,\n",
       "  43,\n",
       "  44,\n",
       "  45,\n",
       "  46,\n",
       "  47,\n",
       "  48,\n",
       "  49,\n",
       "  50,\n",
       "  51,\n",
       "  52,\n",
       "  53,\n",
       "  54,\n",
       "  55,\n",
       "  56,\n",
       "  57,\n",
       "  58],\n",
       " <a list of 59 Text major ticklabel objects>)"
      ]
     },
     "execution_count": 40,
     "metadata": {},
     "output_type": "execute_result"
    },
    {
     "data": {
      "image/png": "[encoded data removed]",
      "text/plain": [
       "<Figure size 432x288 with 1 Axes>"
      ]
     },
     "metadata": {
      "needs_background": "light"
     },
     "output_type": "display_data"
    }
   ],
   "source": [
    "incendios_por_county=incendios.groupby('Counties').size()\n",
    "incendios_por_county=incendios_por_county.sort_values(ascending=False)\n",
    "\n",
    "import matplotlib.pyplot as plt\n",
    "plt.bar( incendios_por_county.index , incendios_por_county )\n",
    "plt.xticks(rotation=90)"
   ]
  },
  {
   "cell_type": "code",
   "execution_count": null,
   "metadata": {},
   "outputs": [],
   "source": []
  }
 ],
 "metadata": {
  "kernelspec": {
   "display_name": "Python 3",
   "language": "python",
   "name": "python3"
  },
  "language_info": {
   "codemirror_mode": {
    "name": "ipython",
    "version": 3
   },
   "file_extension": ".py",
   "mimetype": "text/x-python",
   "name": "python",
   "nbconvert_exporter": "python",
   "pygments_lexer": "ipython3",
   "version": "3.8.3"
  }
 },
 "nbformat": 4,
 "nbformat_minor": 4
}
