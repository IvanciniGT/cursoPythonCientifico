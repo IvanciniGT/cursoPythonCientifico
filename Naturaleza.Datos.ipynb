{
 "cells": [
  {
   "cell_type": "markdown",
   "metadata": {},
   "source": [
    "# Lenguajes de programación\n",
    "##  ¿Por qué un lenguaje de programación se denomina lenguaje?\n",
    "\n",
    "Porque tienen una sintaxis, una grámatica y semántica.\n",
    "\n",
    "## Taxonomias\n",
    "\n",
    "### Compilados vs Interpretados\n",
    "Python es un lenguaje interpretado.\n",
    "\n",
    "DOCUMENTO PYTHON (lenguaje python) -> Cambiarlo a un lenguajke que entienda el S.O.->  El hardware está gobernado por el Sistema Operativo.\n",
    "\n",
    "El proceso de cambiar de lenguaje un código, dentro de un ordenador:\n",
    "* Compilación:    Traducción ESTATICA del código\n",
    "* Interpretación: Traducción DINAMICA del código\n",
    "\n",
    "Intérpretes:\n",
    "* CYTHON: Intérprete de python escrito en C\n",
    "* JYTHON: Interprete de Python escrito en Java\n",
    "\n",
    "### Desventajas de los lenguajes INTERPRETADOS\n",
    "La principal es: Velocidad. Mucho más lentos.\n",
    "\n",
    "A priori PYTHON Sería una elección ILOGICA TOTALMENTE para manipular muchos datos.\n",
    "\n",
    "Aquí es donde entra Numpy.  \n",
    "\n",
    "### Qué es numpy:\n",
    "Es una librería escrita en C, para manipular matrices de datos (y más cosas).\n",
    "\n",
    "Numpy tiene una capa de comunicación con Python.\n",
    "\n",
    "Igual que con numpy, pasa con: Pandas, Keras, ...\n",
    "\n",
    "## De tipado estático vs de tipado dinámico\n",
    "* Lenguaje de tipado estático: Requiere que el tipo de dato a manejar sea definido a priori. Y no puede cambiar en el tiempo.\n",
    "* Lenguaje de tipado dinámico: El tipo de dato a manejar se define en tiempo de asignación. Y SI puede cambiar en el tiempo.\n",
    "\n",
    "Python es un lenguaje de tipado DINAMICO\n"
   ]
  },
  {
   "cell_type": "code",
   "execution_count": 3,
   "metadata": {},
   "outputs": [
    {
     "name": "stdout",
     "output_type": "stream",
     "text": [
      "Yo soy un texto\n"
     ]
    }
   ],
   "source": [
    "texto='Yo soy un texto'\n",
    "print(texto)"
   ]
  },
  {
   "cell_type": "code",
   "execution_count": 4,
   "metadata": {},
   "outputs": [],
   "source": [
    "texto=4 # Ahora texto es un entero\n",
    "texto=4.3 # Ahora texto es un decimal\n",
    "texto=True # Ahora texto es un valor lógico"
   ]
  },
  {
   "cell_type": "markdown",
   "metadata": {},
   "source": [
    "C es un lenguaje de tipado ESTATICO => Nuestras librerias de manipulación de datos, están escritas en C\n"
   ]
  },
  {
   "cell_type": "markdown",
   "metadata": {},
   "source": [
    "# Como se manejan los datos en un ordenador\n",
    "\n",
    "Lenguaje binario: 1 o 0... Simplificación. Estados binarios\n",
    "\n",
    "Cómo se llama en informática a un 0 o un 1: BIT \n",
    "\n",
    "Bit: La mínima unidad de información que puedo procesar.\n",
    "\n",
    "¿Cuantas cosas puedo guardar en un bit?: 0 o 1\n",
    "\n",
    "¿Qué significado le doy a esas cosas?\n",
    "* 0: Llueve        |   Sobrecalentamiento\n",
    "* 1: No llueve     |   No sobrecalentamiento\n",
    "\n",
    "Los bits los agrupamos para poder representar cosas más complejas:\n",
    "  \n",
    "  Bits     | Significados (combinaciones de 0 y 1)\n",
    "2 bits:         00, 01, 10, 11 => 4 cosas\n",
    "3 bits:         8 cosas (2 elevado a 3)\n",
    "8 bits:       256 cosas diferentes => BYTE\n",
    "\n",
    "TIPO DE DATOS =>   INT       INT CON SIGNO     CARACTER\n",
    "00000000           0         -128                  a\n",
    "00000001           1         -127                  b\n",
    "00000010           2         -126                  c\n",
    "...\n",
    "11111111           255        127\n",
    "\n",
    "Significados diferentes\n",
    "* 1 bit          => 2 cosas\n",
    "* 8 bits= 1 byte => 256\n",
    "* 2 bytes        => 256 x 256 = +65k\n",
    "* 4 bytes        => 65k x 65k = +4KM\n",
    "* 8 bytes        => (4x10^9)^2\n",
    "\n",
    "Temperaturas de un sensor:\n",
    "\n",
    "Marte (-130 , 50)  ###.##\n",
    "\n",
    "(30+50+0) = 181x 100 = 18.000 => "
   ]
  },
  {
   "cell_type": "code",
   "execution_count": null,
   "metadata": {},
   "outputs": [],
   "source": []
  }
 ],
 "metadata": {
  "kernelspec": {
   "display_name": "Python 3",
   "language": "python",
   "name": "python3"
  },
  "language_info": {
   "codemirror_mode": {
    "name": "ipython",
    "version": 3
   },
   "file_extension": ".py",
   "mimetype": "text/x-python",
   "name": "python",
   "nbconvert_exporter": "python",
   "pygments_lexer": "ipython3",
   "version": "3.8.3"
  }
 },
 "nbformat": 4,
 "nbformat_minor": 4
}
