{
 "cells": [
  {
   "cell_type": "code",
   "execution_count": 8,
   "metadata": {},
   "outputs": [
    {
     "data": {
      "text/html": [
       "<div>\n",
       "<style scoped>\n",
       "    .dataframe tbody tr th:only-of-type {\n",
       "        vertical-align: middle;\n",
       "    }\n",
       "\n",
       "    .dataframe tbody tr th {\n",
       "        vertical-align: top;\n",
       "    }\n",
       "\n",
       "    .dataframe thead th {\n",
       "        text-align: right;\n",
       "    }\n",
       "</style>\n",
       "<table border=\"1\" class=\"dataframe\">\n",
       "  <thead>\n",
       "    <tr style=\"text-align: right;\">\n",
       "      <th></th>\n",
       "      <th>nombre</th>\n",
       "      <th>numero_mascotas</th>\n",
       "      <th>tipo_mascota_1</th>\n",
       "    </tr>\n",
       "  </thead>\n",
       "  <tbody>\n",
       "    <tr>\n",
       "      <th>0</th>\n",
       "      <td>Ivan</td>\n",
       "      <td>2</td>\n",
       "      <td>Perro</td>\n",
       "    </tr>\n",
       "    <tr>\n",
       "      <th>1</th>\n",
       "      <td>Luis</td>\n",
       "      <td>1</td>\n",
       "      <td>Gato</td>\n",
       "    </tr>\n",
       "    <tr>\n",
       "      <th>2</th>\n",
       "      <td>Monica</td>\n",
       "      <td>0</td>\n",
       "      <td>-</td>\n",
       "    </tr>\n",
       "    <tr>\n",
       "      <th>3</th>\n",
       "      <td>Marta</td>\n",
       "      <td>-</td>\n",
       "      <td>-</td>\n",
       "    </tr>\n",
       "  </tbody>\n",
       "</table>\n",
       "</div>"
      ],
      "text/plain": [
       "   nombre numero_mascotas tipo_mascota_1\n",
       "0    Ivan               2          Perro\n",
       "1    Luis               1           Gato\n",
       "2  Monica               0              -\n",
       "3   Marta               -              -"
      ]
     },
     "execution_count": 8,
     "metadata": {},
     "output_type": "execute_result"
    }
   ],
   "source": [
    "import pandas as pd\n",
    "datos=pd.DataFrame({\n",
    "    'nombre': ('Ivan','Luis','Monica','Marta'),\n",
    "    'numero_mascotas': (2,1,0,'-'),\n",
    "    'tipo_mascota_1': ('Perro', 'Gato', '-','-')\n",
    "})\n",
    "datos"
   ]
  },
  {
   "cell_type": "code",
   "execution_count": null,
   "metadata": {},
   "outputs": [],
   "source": [
    "# Cuantas personas tienen mascota?\n",
    "# Tabla de frecuencias de la variable \"TIENE MASCOTA\"\n",
    "#     TIENE_MASCOTA\n",
    "# 0        SI\n",
    "# 1        SI\n",
    "# 2        NO\n",
    "# 3        --\n",
    "#\n",
    "# SI    2\n",
    "# NO    1\n",
    "# --    1 ----< INCERTIDUMBRE\n",
    "\n",
    "#Tabla de frecuencias de la variable TIPO_MASCOTA_1\n",
    "# Perro    1\n",
    "# Gato     1\n",
    "# --       1 (A monica no la pongo... porque NO LE APLICA)\n",
    "\n",
    "# Qué porcentaje de familias con mascotas tienen PERROS? 33% SEGURO - Potencialmente hasta un 66%\n",
    "# Qué porcentaje de familias tienen PERROS?              25% SEGURO - Potencialmente hasta un 50%\n",
    "\n",
    "\n",
    "# Los valores perdidos tienen distinta naturaleza: \n",
    "#   NS/NC\n",
    "#   No aplica\n",
    "#   Fallo de sistema (Problema con una importación)"
   ]
  }
 ],
 "metadata": {
  "kernelspec": {
   "display_name": "Python 3",
   "language": "python",
   "name": "python3"
  },
  "language_info": {
   "codemirror_mode": {
    "name": "ipython",
    "version": 3
   },
   "file_extension": ".py",
   "mimetype": "text/x-python",
   "name": "python",
   "nbconvert_exporter": "python",
   "pygments_lexer": "ipython3",
   "version": "3.8.3"
  }
 },
 "nbformat": 4,
 "nbformat_minor": 4
}
