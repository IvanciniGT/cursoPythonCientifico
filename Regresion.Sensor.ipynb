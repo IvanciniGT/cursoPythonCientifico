{
 "cells": [
  {
   "cell_type": "markdown",
   "metadata": {},
   "source": [
    "# Sensor de Temperaturas.\n",
    "\n",
    "## Datos\n",
    "\n",
    "Mediciones en 7 temperaturas diferentes:\n",
    "\n",
    "-20 -10 0 10 20 30 40\n",
    "\n",
    "10 Mediciones en cada temperatura:\n",
    "\n",
    "5   8   11   14.5    18     22     27  Medias\n",
    "\n",
    "Ruido: Normal, media 0, dt 1\n"
   ]
  },
  {
   "cell_type": "code",
   "execution_count": 117,
   "metadata": {},
   "outputs": [],
   "source": [
    "from numpy.random import normal\n",
    "#from numpy import random\n",
    "#random.normal\n",
    "# Generación de las mediciones:\n",
    "                            # Parte no explicada: RUIDO\n",
    "mediciones_20_bajo_cero=5 + normal(loc=0,scale=1, size=10)\n",
    "                        # Parte explicada por la ciencia"
   ]
  },
  {
   "cell_type": "code",
   "execution_count": 118,
   "metadata": {},
   "outputs": [
    {
     "data": {
      "text/plain": [
       "4.940067297027045"
      ]
     },
     "execution_count": 118,
     "metadata": {},
     "output_type": "execute_result"
    }
   ],
   "source": [
    "mediciones_20_bajo_cero.mean()"
   ]
  },
  {
   "cell_type": "code",
   "execution_count": 119,
   "metadata": {},
   "outputs": [],
   "source": [
    "# Variable que me hacen falta\n",
    "temperaturas=range(-20,41,10)\n",
    "medias=(5, 8, 11, 14.5, 18, 22, 27)\n"
   ]
  },
  {
   "cell_type": "code",
   "execution_count": 120,
   "metadata": {},
   "outputs": [],
   "source": [
    "# METODO 1\n",
    "mediciones=np.empty((7,10))\n",
    "for indice in range(len(medias)):\n",
    "    mediciones[indice,:]=medias[indice] + normal(loc=0,scale=1, size=10)\n"
   ]
  },
  {
   "cell_type": "code",
   "execution_count": 121,
   "metadata": {},
   "outputs": [
    {
     "data": {
      "text/plain": [
       "(7, 10)"
      ]
     },
     "execution_count": 121,
     "metadata": {},
     "output_type": "execute_result"
    }
   ],
   "source": [
    "# METODO 2\n",
    "ruido=normal(loc=0,scale=1, size=(7,10))\n",
    "#matriz_medias=np.array(medias*10).reshape((10,7)).T\n",
    "#matriz_medias=np.stack( (medias,  )*10 ).T\n",
    "matriz_medias=np.stack( ( medias,  )*10 ,axis=1)\n",
    "mediciones=matriz_medias + ruido\n",
    "mediciones.shape"
   ]
  },
  {
   "cell_type": "code",
   "execution_count": 122,
   "metadata": {},
   "outputs": [],
   "source": [
    "# Quiero una regresion lineal\n",
    "# De que datos debo partir?\n",
    "# Puntos? Coordenada x, coordenada y\n",
    "# Coordenada Temperatura, Coordenada Medicion\n",
    "# La funcion en python para la regresion quiere 2 parametros: \n",
    "#    Array con las X (Tamaño: (70,) )\n",
    "#    Array con las Y (Tamaño: (70,) )"
   ]
  },
  {
   "cell_type": "code",
   "execution_count": 123,
   "metadata": {},
   "outputs": [],
   "source": [
    "#mediciones=mediciones.flatten()\n",
    "mediciones=mediciones.reshape((70,))\n"
   ]
  },
  {
   "cell_type": "code",
   "execution_count": 124,
   "metadata": {},
   "outputs": [],
   "source": [
    "temperaturas=range(-20,41,10)\n",
    "temperaturas=np.array(list(temperaturas)*10).reshape(10,7).T.flatten()"
   ]
  },
  {
   "cell_type": "code",
   "execution_count": 125,
   "metadata": {},
   "outputs": [
    {
     "data": {
      "text/plain": [
       "array([ 6.26909036,  5.28386072,  5.2746248 ,  6.5074682 ,  5.15732802,\n",
       "        4.98639737,  5.48589426,  3.30291259,  5.75112345,  4.44661481,\n",
       "        8.40635446,  7.84723893,  7.17712661,  8.33794699,  8.49816087,\n",
       "        8.2516583 ,  8.79419288,  6.65528311,  8.39443563,  8.14912569,\n",
       "       11.69296719, 11.65972237, 11.19044347, 10.96619432, 10.89650313,\n",
       "       11.02469644, 11.30321191, 10.69351314, 11.2700606 , 10.9783624 ,\n",
       "       14.67053575, 13.4810268 , 14.93840315, 14.06719448, 15.1064846 ,\n",
       "       15.09515429, 14.41462913, 14.37386555, 13.81430822, 15.87905231,\n",
       "       16.30691932, 17.42284802, 16.53401735, 18.08910982, 17.15090709,\n",
       "       18.7794265 , 17.26431053, 17.34466989, 18.22599017, 20.12886705,\n",
       "       20.72328543, 22.41285102, 21.58721425, 22.63365098, 19.31408716,\n",
       "       20.857786  , 20.61649437, 21.6969617 , 21.14854868, 20.983496  ,\n",
       "       26.79000061, 27.02899416, 27.8139565 , 27.21934295, 27.0201371 ,\n",
       "       27.09051857, 26.49787124, 27.10462357, 26.83948779, 28.68736305])"
      ]
     },
     "execution_count": 125,
     "metadata": {},
     "output_type": "execute_result"
    }
   ],
   "source": [
    "mediciones"
   ]
  },
  {
   "cell_type": "code",
   "execution_count": 126,
   "metadata": {},
   "outputs": [
    {
     "data": {
      "text/plain": [
       "array([-20, -20, -20, -20, -20, -20, -20, -20, -20, -20, -10, -10, -10,\n",
       "       -10, -10, -10, -10, -10, -10, -10,   0,   0,   0,   0,   0,   0,\n",
       "         0,   0,   0,   0,  10,  10,  10,  10,  10,  10,  10,  10,  10,\n",
       "        10,  20,  20,  20,  20,  20,  20,  20,  20,  20,  20,  30,  30,\n",
       "        30,  30,  30,  30,  30,  30,  30,  30,  40,  40,  40,  40,  40,\n",
       "        40,  40,  40,  40,  40])"
      ]
     },
     "execution_count": 126,
     "metadata": {},
     "output_type": "execute_result"
    }
   ],
   "source": [
    "temperaturas"
   ]
  },
  {
   "cell_type": "code",
   "execution_count": 128,
   "metadata": {},
   "outputs": [
    {
     "data": {
      "text/html": [
       "<table class=\"simpletable\">\n",
       "<caption>OLS Regression Results</caption>\n",
       "<tr>\n",
       "  <th>Dep. Variable:</th>            <td>y</td>        <th>  R-squared:         </th> <td>   0.975</td>\n",
       "</tr>\n",
       "<tr>\n",
       "  <th>Model:</th>                   <td>OLS</td>       <th>  Adj. R-squared:    </th> <td>   0.974</td>\n",
       "</tr>\n",
       "<tr>\n",
       "  <th>Method:</th>             <td>Least Squares</td>  <th>  F-statistic:       </th> <td>   2637.</td>\n",
       "</tr>\n",
       "<tr>\n",
       "  <th>Date:</th>             <td>Wed, 18 Nov 2020</td> <th>  Prob (F-statistic):</th> <td>3.98e-56</td>\n",
       "</tr>\n",
       "<tr>\n",
       "  <th>Time:</th>                 <td>10:33:06</td>     <th>  Log-Likelihood:    </th> <td> -180.11</td>\n",
       "</tr>\n",
       "<tr>\n",
       "  <th>No. Observations:</th>      <td>    70</td>      <th>  AIC:               </th> <td>   364.2</td>\n",
       "</tr>\n",
       "<tr>\n",
       "  <th>Df Residuals:</th>          <td>    68</td>      <th>  BIC:               </th> <td>   368.7</td>\n",
       "</tr>\n",
       "<tr>\n",
       "  <th>Df Model:</th>              <td>     1</td>      <th>                     </th>     <td> </td>   \n",
       "</tr>\n",
       "<tr>\n",
       "  <th>Covariance Type:</th>      <td>nonrobust</td>    <th>                     </th>     <td> </td>   \n",
       "</tr>\n",
       "</table>\n",
       "<table class=\"simpletable\">\n",
       "<tr>\n",
       "    <td></td>       <th>coef</th>     <th>std err</th>      <th>t</th>      <th>P>|t|</th>  <th>[0.025</th>    <th>0.975]</th>  \n",
       "</tr>\n",
       "<tr>\n",
       "  <th>const</th> <td>  -31.5390</td> <td>    0.896</td> <td>  -35.214</td> <td> 0.000</td> <td>  -33.326</td> <td>  -29.752</td>\n",
       "</tr>\n",
       "<tr>\n",
       "  <th>x1</th>    <td>    2.7645</td> <td>    0.054</td> <td>   51.354</td> <td> 0.000</td> <td>    2.657</td> <td>    2.872</td>\n",
       "</tr>\n",
       "</table>\n",
       "<table class=\"simpletable\">\n",
       "<tr>\n",
       "  <th>Omnibus:</th>       <td> 0.061</td> <th>  Durbin-Watson:     </th> <td>   1.114</td>\n",
       "</tr>\n",
       "<tr>\n",
       "  <th>Prob(Omnibus):</th> <td> 0.970</td> <th>  Jarque-Bera (JB):  </th> <td>   0.231</td>\n",
       "</tr>\n",
       "<tr>\n",
       "  <th>Skew:</th>          <td> 0.037</td> <th>  Prob(JB):          </th> <td>   0.891</td>\n",
       "</tr>\n",
       "<tr>\n",
       "  <th>Kurtosis:</th>      <td> 2.728</td> <th>  Cond. No.          </th> <td>    38.9</td>\n",
       "</tr>\n",
       "</table><br/><br/>Warnings:<br/>[1] Standard Errors assume that the covariance matrix of the errors is correctly specified."
      ],
      "text/plain": [
       "<class 'statsmodels.iolib.summary.Summary'>\n",
       "\"\"\"\n",
       "                            OLS Regression Results                            \n",
       "==============================================================================\n",
       "Dep. Variable:                      y   R-squared:                       0.975\n",
       "Model:                            OLS   Adj. R-squared:                  0.974\n",
       "Method:                 Least Squares   F-statistic:                     2637.\n",
       "Date:                Wed, 18 Nov 2020   Prob (F-statistic):           3.98e-56\n",
       "Time:                        10:33:06   Log-Likelihood:                -180.11\n",
       "No. Observations:                  70   AIC:                             364.2\n",
       "Df Residuals:                      68   BIC:                             368.7\n",
       "Df Model:                           1                                         \n",
       "Covariance Type:            nonrobust                                         \n",
       "==============================================================================\n",
       "                 coef    std err          t      P>|t|      [0.025      0.975]\n",
       "------------------------------------------------------------------------------\n",
       "const        -31.5390      0.896    -35.214      0.000     -33.326     -29.752\n",
       "x1             2.7645      0.054     51.354      0.000       2.657       2.872\n",
       "==============================================================================\n",
       "Omnibus:                        0.061   Durbin-Watson:                   1.114\n",
       "Prob(Omnibus):                  0.970   Jarque-Bera (JB):                0.231\n",
       "Skew:                           0.037   Prob(JB):                        0.891\n",
       "Kurtosis:                       2.728   Cond. No.                         38.9\n",
       "==============================================================================\n",
       "\n",
       "Warnings:\n",
       "[1] Standard Errors assume that the covariance matrix of the errors is correctly specified.\n",
       "\"\"\""
      ]
     },
     "execution_count": 128,
     "metadata": {},
     "output_type": "execute_result"
    }
   ],
   "source": [
    "import statsmodels.api as sm\n",
    "mediciones=sm.add_constant(mediciones)\n",
    "modelo=sm.OLS(temperaturas,mediciones).fit()\n",
    "modelo.summary()"
   ]
  },
  {
   "cell_type": "code",
   "execution_count": 132,
   "metadata": {},
   "outputs": [
    {
     "data": {
      "text/plain": [
       "array([-12.18744782])"
      ]
     },
     "execution_count": 132,
     "metadata": {},
     "output_type": "execute_result"
    }
   ],
   "source": [
    "# Nuestro modelo que representa? Una regresion lineal: recta\n",
    "# Ecuación de una recta: y=mx+n\n",
    "# Ecuación de una recta: Temperatura = 2,69 x Medicion - 30.38\n",
    "# m:\n",
    "# n: \n",
    "modelo.predict((1,7))"
   ]
  },
  {
   "cell_type": "code",
   "execution_count": 135,
   "metadata": {},
   "outputs": [
    {
     "data": {
      "text/plain": [
       "(70,)"
      ]
     },
     "execution_count": 135,
     "metadata": {},
     "output_type": "execute_result"
    }
   ],
   "source": [
    "mediciones[:,1].shape"
   ]
  },
  {
   "cell_type": "code",
   "execution_count": 145,
   "metadata": {},
   "outputs": [
    {
     "data": {
      "text/plain": [
       "[<matplotlib.lines.Line2D at 0x1f6064d3d00>]"
      ]
     },
     "execution_count": 145,
     "metadata": {},
     "output_type": "execute_result"
    },
    {
     "data": {
      "image/png": "[encoded data removed]",
      "text/plain": [
       "<Figure size 432x288 with 1 Axes>"
      ]
     },
     "metadata": {
      "needs_background": "light"
     },
     "output_type": "display_data"
    }
   ],
   "source": [
    "import matplotlib.pyplot as mp\n",
    "mp.plot(mediciones[:,1],temperaturas,'o',color='green')\n",
    "mp.plot(mediciones[:,1],modelo.predict(mediciones),color='blue')"
   ]
  },
  {
   "cell_type": "code",
   "execution_count": 159,
   "metadata": {},
   "outputs": [
    {
     "data": {
      "text/html": [
       "<table class=\"simpletable\">\n",
       "<caption>OLS Regression Results</caption>\n",
       "<tr>\n",
       "  <th>Dep. Variable:</th>            <td>T</td>        <th>  R-squared:         </th> <td>   0.986</td>\n",
       "</tr>\n",
       "<tr>\n",
       "  <th>Model:</th>                   <td>OLS</td>       <th>  Adj. R-squared:    </th> <td>   0.986</td>\n",
       "</tr>\n",
       "<tr>\n",
       "  <th>Method:</th>             <td>Least Squares</td>  <th>  F-statistic:       </th> <td>   2427.</td>\n",
       "</tr>\n",
       "<tr>\n",
       "  <th>Date:</th>             <td>Wed, 18 Nov 2020</td> <th>  Prob (F-statistic):</th> <td>3.07e-63</td>\n",
       "</tr>\n",
       "<tr>\n",
       "  <th>Time:</th>                 <td>11:37:06</td>     <th>  Log-Likelihood:    </th> <td> -158.64</td>\n",
       "</tr>\n",
       "<tr>\n",
       "  <th>No. Observations:</th>      <td>    70</td>      <th>  AIC:               </th> <td>   323.3</td>\n",
       "</tr>\n",
       "<tr>\n",
       "  <th>Df Residuals:</th>          <td>    67</td>      <th>  BIC:               </th> <td>   330.0</td>\n",
       "</tr>\n",
       "<tr>\n",
       "  <th>Df Model:</th>              <td>     2</td>      <th>                     </th>     <td> </td>   \n",
       "</tr>\n",
       "<tr>\n",
       "  <th>Covariance Type:</th>      <td>nonrobust</td>    <th>                     </th>     <td> </td>   \n",
       "</tr>\n",
       "</table>\n",
       "<table class=\"simpletable\">\n",
       "<tr>\n",
       "         <td></td>           <th>coef</th>     <th>std err</th>      <th>t</th>      <th>P>|t|</th>  <th>[0.025</th>    <th>0.975]</th>  \n",
       "</tr>\n",
       "<tr>\n",
       "  <th>Intercept</th>      <td>  -40.5897</td> <td>    1.373</td> <td>  -29.563</td> <td> 0.000</td> <td>  -43.330</td> <td>  -37.849</td>\n",
       "</tr>\n",
       "<tr>\n",
       "  <th>np.power(M, 2)</th> <td>   -0.0440</td> <td>    0.006</td> <td>   -7.531</td> <td> 0.000</td> <td>   -0.056</td> <td>   -0.032</td>\n",
       "</tr>\n",
       "<tr>\n",
       "  <th>M</th>              <td>    4.1771</td> <td>    0.192</td> <td>   21.782</td> <td> 0.000</td> <td>    3.794</td> <td>    4.560</td>\n",
       "</tr>\n",
       "</table>\n",
       "<table class=\"simpletable\">\n",
       "<tr>\n",
       "  <th>Omnibus:</th>       <td> 6.252</td> <th>  Durbin-Watson:     </th> <td>   2.264</td>\n",
       "</tr>\n",
       "<tr>\n",
       "  <th>Prob(Omnibus):</th> <td> 0.044</td> <th>  Jarque-Bera (JB):  </th> <td>   5.951</td>\n",
       "</tr>\n",
       "<tr>\n",
       "  <th>Skew:</th>          <td> 0.487</td> <th>  Prob(JB):          </th> <td>  0.0510</td>\n",
       "</tr>\n",
       "<tr>\n",
       "  <th>Kurtosis:</th>      <td> 4.046</td> <th>  Cond. No.          </th> <td>1.76e+03</td>\n",
       "</tr>\n",
       "</table><br/><br/>Warnings:<br/>[1] Standard Errors assume that the covariance matrix of the errors is correctly specified.<br/>[2] The condition number is large, 1.76e+03. This might indicate that there are<br/>strong multicollinearity or other numerical problems."
      ],
      "text/plain": [
       "<class 'statsmodels.iolib.summary.Summary'>\n",
       "\"\"\"\n",
       "                            OLS Regression Results                            \n",
       "==============================================================================\n",
       "Dep. Variable:                      T   R-squared:                       0.986\n",
       "Model:                            OLS   Adj. R-squared:                  0.986\n",
       "Method:                 Least Squares   F-statistic:                     2427.\n",
       "Date:                Wed, 18 Nov 2020   Prob (F-statistic):           3.07e-63\n",
       "Time:                        11:37:06   Log-Likelihood:                -158.64\n",
       "No. Observations:                  70   AIC:                             323.3\n",
       "Df Residuals:                      67   BIC:                             330.0\n",
       "Df Model:                           2                                         \n",
       "Covariance Type:            nonrobust                                         \n",
       "==================================================================================\n",
       "                     coef    std err          t      P>|t|      [0.025      0.975]\n",
       "----------------------------------------------------------------------------------\n",
       "Intercept        -40.5897      1.373    -29.563      0.000     -43.330     -37.849\n",
       "np.power(M, 2)    -0.0440      0.006     -7.531      0.000      -0.056      -0.032\n",
       "M                  4.1771      0.192     21.782      0.000       3.794       4.560\n",
       "==============================================================================\n",
       "Omnibus:                        6.252   Durbin-Watson:                   2.264\n",
       "Prob(Omnibus):                  0.044   Jarque-Bera (JB):                5.951\n",
       "Skew:                           0.487   Prob(JB):                       0.0510\n",
       "Kurtosis:                       4.046   Cond. No.                     1.76e+03\n",
       "==============================================================================\n",
       "\n",
       "Warnings:\n",
       "[1] Standard Errors assume that the covariance matrix of the errors is correctly specified.\n",
       "[2] The condition number is large, 1.76e+03. This might indicate that there are\n",
       "strong multicollinearity or other numerical problems.\n",
       "\"\"\""
      ]
     },
     "execution_count": 159,
     "metadata": {},
     "output_type": "execute_result"
    }
   ],
   "source": [
    "# Regresion NO DE PRIMER ORDEN\n",
    "import statsmodels.formula.api as smf\n",
    "#mediciones=mediciones[:,1]\n",
    "modelo=smf.ols(formula=\"T ~ np.power(M,2) + M + 1\", data={\"T\":temperaturas,\"M\":mediciones}).fit()\n",
    "modelo.summary()"
   ]
  },
  {
   "cell_type": "code",
   "execution_count": 153,
   "metadata": {},
   "outputs": [
    {
     "data": {
      "text/plain": [
       "0    -16.016936\n",
       "1    -18.916341\n",
       "2    -18.942990\n",
       "3    -15.299722\n",
       "4    -19.280530\n",
       "        ...    \n",
       "65    39.717265\n",
       "66    39.092985\n",
       "67    39.730864\n",
       "68    39.465376\n",
       "69    40.867332\n",
       "Length: 70, dtype: float64"
      ]
     },
     "execution_count": 153,
     "metadata": {},
     "output_type": "execute_result"
    }
   ],
   "source": [
    "modelo.predict({\"M\":mediciones})"
   ]
  },
  {
   "cell_type": "code",
   "execution_count": 154,
   "metadata": {},
   "outputs": [
    {
     "data": {
      "text/plain": [
       "[<matplotlib.lines.Line2D at 0x1f6066769a0>]"
      ]
     },
     "execution_count": 154,
     "metadata": {},
     "output_type": "execute_result"
    },
    {
     "data": {
      "image/png": "[encoded data removed]",
      "text/plain": [
       "<Figure size 432x288 with 1 Axes>"
      ]
     },
     "metadata": {
      "needs_background": "light"
     },
     "output_type": "display_data"
    }
   ],
   "source": [
    "mp.plot(mediciones,temperaturas,'o',color='green')\n",
    "mp.plot(mediciones,modelo.predict({\"M\":mediciones}),color='blue')"
   ]
  },
  {
   "cell_type": "code",
   "execution_count": null,
   "metadata": {},
   "outputs": [],
   "source": []
  }
 ],
 "metadata": {
  "kernelspec": {
   "display_name": "Python 3",
   "language": "python",
   "name": "python3"
  },
  "language_info": {
   "codemirror_mode": {
    "name": "ipython",
    "version": 3
   },
   "file_extension": ".py",
   "mimetype": "text/x-python",
   "name": "python",
   "nbconvert_exporter": "python",
   "pygments_lexer": "ipython3",
   "version": "3.8.3"
  }
 },
 "nbformat": 4,
 "nbformat_minor": 4
}
